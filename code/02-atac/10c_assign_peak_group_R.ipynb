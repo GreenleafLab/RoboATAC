{
 "cells": [
  {
   "cell_type": "code",
   "execution_count": 3,
   "id": "43710102-d536-4d85-a8cc-f29a117ff646",
   "metadata": {
    "vscode": {
     "languageId": "r"
    }
   },
   "outputs": [
    {
     "name": "stderr",
     "output_type": "stream",
     "text": [
      "Loading required package: GenomicRanges\n",
      "\n",
      "Loading required package: stats4\n",
      "\n"
     ]
    },
    {
     "name": "stderr",
     "output_type": "stream",
     "text": [
      "Loading required package: BiocGenerics\n",
      "\n",
      "\n",
      "Attaching package: ‘BiocGenerics’\n",
      "\n",
      "\n",
      "The following objects are masked from ‘package:stats’:\n",
      "\n",
      "    IQR, mad, sd, var, xtabs\n",
      "\n",
      "\n",
      "The following objects are masked from ‘package:base’:\n",
      "\n",
      "    anyDuplicated, append, as.data.frame, basename, cbind, colnames,\n",
      "    dirname, do.call, duplicated, eval, evalq, Filter, Find, get, grep,\n",
      "    grepl, intersect, is.unsorted, lapply, Map, mapply, match, mget,\n",
      "    order, paste, pmax, pmax.int, pmin, pmin.int, Position, rank,\n",
      "    rbind, Reduce, rownames, sapply, setdiff, sort, table, tapply,\n",
      "    union, unique, unsplit, which.max, which.min\n",
      "\n",
      "\n",
      "Loading required package: S4Vectors\n",
      "\n",
      "\n",
      "Attaching package: ‘S4Vectors’\n",
      "\n",
      "\n",
      "The following objects are masked from ‘package:base’:\n",
      "\n",
      "    expand.grid, I, unname\n",
      "\n",
      "\n",
      "Loading required package: IRanges\n",
      "\n",
      "Loading required package: GenomeInfoDb\n",
      "\n",
      "── \u001b[1mAttaching core tidyverse packages\u001b[22m ──────────────────────── tidyverse 2.0.0 ──\n",
      "\u001b[32m✔\u001b[39m \u001b[34mdplyr    \u001b[39m 1.1.4     \u001b[32m✔\u001b[39m \u001b[34mreadr    \u001b[39m 2.1.4\n",
      "\u001b[32m✔\u001b[39m \u001b[34mforcats  \u001b[39m 1.0.0     \u001b[32m✔\u001b[39m \u001b[34mstringr  \u001b[39m 1.5.0\n",
      "\u001b[32m✔\u001b[39m \u001b[34mggplot2  \u001b[39m 3.5.0     \u001b[32m✔\u001b[39m \u001b[34mtibble   \u001b[39m 3.2.1\n",
      "\u001b[32m✔\u001b[39m \u001b[34mlubridate\u001b[39m 1.9.2     \u001b[32m✔\u001b[39m \u001b[34mtidyr    \u001b[39m 1.3.1\n",
      "\u001b[32m✔\u001b[39m \u001b[34mpurrr    \u001b[39m 1.0.2     \n",
      "── \u001b[1mConflicts\u001b[22m ────────────────────────────────────────── tidyverse_conflicts() ──\n",
      "\u001b[31m✖\u001b[39m \u001b[34mlubridate\u001b[39m::\u001b[32m%within%()\u001b[39m masks \u001b[34mIRanges\u001b[39m::%within%()\n",
      "\u001b[31m✖\u001b[39m \u001b[34mdplyr\u001b[39m::\u001b[32mcollapse()\u001b[39m     masks \u001b[34mIRanges\u001b[39m::collapse()\n",
      "\u001b[31m✖\u001b[39m \u001b[34mdplyr\u001b[39m::\u001b[32mcombine()\u001b[39m      masks \u001b[34mBiocGenerics\u001b[39m::combine()\n",
      "\u001b[31m✖\u001b[39m \u001b[34mdplyr\u001b[39m::\u001b[32mdesc()\u001b[39m         masks \u001b[34mIRanges\u001b[39m::desc()\n",
      "\u001b[31m✖\u001b[39m \u001b[34mtidyr\u001b[39m::\u001b[32mexpand()\u001b[39m       masks \u001b[34mS4Vectors\u001b[39m::expand()\n",
      "\u001b[31m✖\u001b[39m \u001b[34mdplyr\u001b[39m::\u001b[32mfilter()\u001b[39m       masks \u001b[34mstats\u001b[39m::filter()\n",
      "\u001b[31m✖\u001b[39m \u001b[34mdplyr\u001b[39m::\u001b[32mfirst()\u001b[39m        masks \u001b[34mS4Vectors\u001b[39m::first()\n",
      "\u001b[31m✖\u001b[39m \u001b[34mdplyr\u001b[39m::\u001b[32mlag()\u001b[39m          masks \u001b[34mstats\u001b[39m::lag()\n",
      "\u001b[31m✖\u001b[39m \u001b[34mggplot2\u001b[39m::\u001b[32mPosition()\u001b[39m   masks \u001b[34mBiocGenerics\u001b[39m::Position(), \u001b[34mbase\u001b[39m::Position()\n",
      "\u001b[31m✖\u001b[39m \u001b[34mpurrr\u001b[39m::\u001b[32mreduce()\u001b[39m       masks \u001b[34mGenomicRanges\u001b[39m::reduce(), \u001b[34mIRanges\u001b[39m::reduce()\n",
      "\u001b[31m✖\u001b[39m \u001b[34mdplyr\u001b[39m::\u001b[32mrename()\u001b[39m       masks \u001b[34mS4Vectors\u001b[39m::rename()\n",
      "\u001b[31m✖\u001b[39m \u001b[34mlubridate\u001b[39m::\u001b[32msecond()\u001b[39m   masks \u001b[34mS4Vectors\u001b[39m::second()\n",
      "\u001b[31m✖\u001b[39m \u001b[34mlubridate\u001b[39m::\u001b[32msecond<-()\u001b[39m masks \u001b[34mS4Vectors\u001b[39m::second<-()\n",
      "\u001b[31m✖\u001b[39m \u001b[34mdplyr\u001b[39m::\u001b[32mslice()\u001b[39m        masks \u001b[34mIRanges\u001b[39m::slice()\n",
      "\u001b[36mℹ\u001b[39m Use the conflicted package (\u001b[3m\u001b[34m<http://conflicted.r-lib.org/>\u001b[39m\u001b[23m) to force all conflicts to become errors\n",
      "\n",
      "\n",
      "Loading required package: MatrixGenerics\n",
      "\n",
      "Loading required package: matrixStats\n",
      "\n",
      "\n",
      "Attaching package: ‘matrixStats’\n",
      "\n",
      "\n",
      "The following object is masked from ‘package:dplyr’:\n",
      "\n",
      "    count\n",
      "\n",
      "\n",
      "\n",
      "Attaching package: ‘MatrixGenerics’\n",
      "\n",
      "\n",
      "The following objects are masked from ‘package:matrixStats’:\n",
      "\n",
      "    colAlls, colAnyNAs, colAnys, colAvgsPerRowSet, colCollapse,\n",
      "    colCounts, colCummaxs, colCummins, colCumprods, colCumsums,\n",
      "    colDiffs, colIQRDiffs, colIQRs, colLogSumExps, colMadDiffs,\n",
      "    colMads, colMaxs, colMeans2, colMedians, colMins, colOrderStats,\n",
      "    colProds, colQuantiles, colRanges, colRanks, colSdDiffs, colSds,\n",
      "    colSums2, colTabulates, colVarDiffs, colVars, colWeightedMads,\n",
      "    colWeightedMeans, colWeightedMedians, colWeightedSds,\n",
      "    colWeightedVars, rowAlls, rowAnyNAs, rowAnys, rowAvgsPerColSet,\n",
      "    rowCollapse, rowCounts, rowCummaxs, rowCummins, rowCumprods,\n",
      "    rowCumsums, rowDiffs, rowIQRDiffs, rowIQRs, rowLogSumExps,\n",
      "    rowMadDiffs, rowMads, rowMaxs, rowMeans2, rowMedians, rowMins,\n",
      "    rowOrderStats, rowProds, rowQuantiles, rowRanges, rowRanks,\n",
      "    rowSdDiffs, rowSds, rowSums2, rowTabulates, rowVarDiffs, rowVars,\n",
      "    rowWeightedMads, rowWeightedMeans, rowWeightedMedians,\n",
      "    rowWeightedSds, rowWeightedVars\n",
      "\n",
      "\n",
      "Loading required package: Biobase\n",
      "\n",
      "Welcome to Bioconductor\n",
      "\n",
      "    Vignettes contain introductory material; view with\n",
      "    'browseVignettes()'. To cite Bioconductor, see\n",
      "    'citation(\"Biobase\")', and for packages 'citation(\"pkgname\")'.\n",
      "\n",
      "\n",
      "\n",
      "Attaching package: ‘Biobase’\n",
      "\n",
      "\n",
      "The following object is masked from ‘package:MatrixGenerics’:\n",
      "\n",
      "    rowMedians\n",
      "\n",
      "\n",
      "The following objects are masked from ‘package:matrixStats’:\n",
      "\n",
      "    anyMissing, rowMedians\n",
      "\n",
      "\n"
     ]
    }
   ],
   "source": [
    "library(rtracklayer)\n",
    "library(tidyverse)\n",
    "library(ChrAccR)\n",
    "library(motifmatchr)\n",
    "library(SummarizedExperiment)\n",
    "library(ggpubr)\n",
    "library(patchwork)"
   ]
  },
  {
   "cell_type": "markdown",
   "id": "f24e2223-9715-4ccc-a186-94142aeef949",
   "metadata": {},
   "source": [
    "### read all TF data: cpm, motif matching"
   ]
  },
  {
   "cell_type": "code",
   "execution_count": 4,
   "id": "8b5cd8b8",
   "metadata": {
    "vscode": {
     "languageId": "r"
    }
   },
   "outputs": [],
   "source": [
    "\n",
    "deseq_dir <- \"../../output/02-atac/04/deseq_data_Plate_TF_Dose/\"\n",
    "plotdir <- \"../../plots/02-atac/10\"\n",
    "outdir <- \"../../output/02-atac/10\"\n",
    "\n",
    "dir.create(plotdir, showWarnings = F, recursive=T)\n",
    "dir.create(outdir, showWarnings = F, recursive=T)\n",
    "\n",
    "padj_cutoff <- 0.05\n",
    "log2fc_cutoff <- 0.58"
   ]
  },
  {
   "cell_type": "code",
   "execution_count": null,
   "id": "c5bef7f1-0c82-467a-9acf-6cc5375bccbd",
   "metadata": {
    "vscode": {
     "languageId": "r"
    }
   },
   "outputs": [
    {
     "data": {
      "text/html": [
       "<table class=\"dataframe\">\n",
       "<caption>A data.frame: 6 × 252</caption>\n",
       "<thead>\n",
       "\t<tr><th></th><th scope=col>X1_HEK293T_P1A2_SP4_d100</th><th scope=col>X2_HEK293T_P1B2_SP4_d100</th><th scope=col>X3_HEK293T_P1C2_ELF1_d100</th><th scope=col>X4_HEK293T_P1D2_ELF1_d100</th><th scope=col>X5_HEK293T_P1E2_FOXP1_d100</th><th scope=col>X6_HEK293T_P1F2_FOXP1_d100</th><th scope=col>X7_HEK293T_P1G2_GATA1_d100</th><th scope=col>X8_HEK293T_P1H2_GATA1_d100</th><th scope=col>X9_HEK293T_P1A3_SP4_d075</th><th scope=col>X10_HEK293T_P1B3_SP4_d075</th><th scope=col>⋯</th><th scope=col>X407_HEK293T_P3G11_SPI1_d005</th><th scope=col>X408_HEK293T_P3H11_SPI1_d005</th><th scope=col>X409_HEK293T_P3A12_GFP_d100</th><th scope=col>X410_HEK293T_P3B12_GFP_d100</th><th scope=col>X411_HEK293T_P3C12_tetCTCF_d100</th><th scope=col>X412_HEK293T_P3D12_tetCTCF_d100</th><th scope=col>X413_HEK293T_P3E12_GFP_d100</th><th scope=col>X414_HEK293T_P3F12_GFP_d100</th><th scope=col>X415_HEK293T_P3G12_negctl_d100</th><th scope=col>X416_HEK293T_P3H12_negctl_d100</th></tr>\n",
       "\t<tr><th></th><th scope=col>&lt;dbl&gt;</th><th scope=col>&lt;dbl&gt;</th><th scope=col>&lt;dbl&gt;</th><th scope=col>&lt;dbl&gt;</th><th scope=col>&lt;dbl&gt;</th><th scope=col>&lt;dbl&gt;</th><th scope=col>&lt;dbl&gt;</th><th scope=col>&lt;dbl&gt;</th><th scope=col>&lt;dbl&gt;</th><th scope=col>&lt;dbl&gt;</th><th scope=col>⋯</th><th scope=col>&lt;dbl&gt;</th><th scope=col>&lt;dbl&gt;</th><th scope=col>&lt;dbl&gt;</th><th scope=col>&lt;dbl&gt;</th><th scope=col>&lt;dbl&gt;</th><th scope=col>&lt;dbl&gt;</th><th scope=col>&lt;dbl&gt;</th><th scope=col>&lt;dbl&gt;</th><th scope=col>&lt;dbl&gt;</th><th scope=col>&lt;dbl&gt;</th></tr>\n",
       "</thead>\n",
       "<tbody>\n",
       "\t<tr><th scope=row>HEK293T_P3A12_GFP_d100_peak_1</th><td>1.588078</td><td>0.8776116</td><td>0.8770458</td><td>1.688634</td><td>2.175640</td><td> 1.393018</td><td>1.558472</td><td>1.6576188</td><td>1.483490</td><td>0.425564</td><td>⋯</td><td>1.1968762</td><td>1.770908</td><td>2.7855153</td><td>1.8936426</td><td>1.1304493</td><td>1.8257871</td><td>0.7031904</td><td>1.0822624</td><td>2.313741</td><td>1.4081195</td></tr>\n",
       "\t<tr><th scope=row>HEK293T_P3A12_GFP_d100_peak_17</th><td>6.087634</td><td>8.9955187</td><td>8.9897199</td><td>9.118624</td><td>8.857964</td><td>10.795892</td><td>8.500757</td><td>8.6564539</td><td>8.900937</td><td>5.957896</td><td>⋯</td><td>9.1760505</td><td>7.083633</td><td>9.2850511</td><td>7.5745705</td><td>7.3479207</td><td>7.9117439</td><td>9.1414749</td><td>6.8543286</td><td>7.519658</td><td>8.4487170</td></tr>\n",
       "\t<tr><th scope=row>HEK293T_P3G8_SPI1_d075_peak_6</th><td>1.588078</td><td>3.0716405</td><td>1.0963073</td><td>1.688634</td><td>2.175640</td><td> 2.263655</td><td>0.991755</td><td>2.0259786</td><td>1.483490</td><td>1.276692</td><td>⋯</td><td>0.7979174</td><td>2.361211</td><td>4.6425255</td><td>2.3670533</td><td>1.6956740</td><td>0.6085957</td><td>2.8127615</td><td>0.3607541</td><td>1.156870</td><td>0.7040597</td></tr>\n",
       "\t<tr><th scope=row>HEK293T_P1B6_SP4_d005_peak_3</th><td>1.323399</td><td>1.7552232</td><td>2.4118761</td><td>3.714995</td><td>3.263461</td><td> 3.134291</td><td>3.116944</td><td>2.2101584</td><td>2.472483</td><td>1.276692</td><td>⋯</td><td>1.1968762</td><td>1.770908</td><td>2.7855153</td><td>0.9468213</td><td>0.5652247</td><td>2.4343827</td><td>1.4063807</td><td>2.1645248</td><td>4.627482</td><td>3.5202987</td></tr>\n",
       "\t<tr><th scope=row>HEK293T_P3G7_SPI1_d100_peak_10</th><td>2.382118</td><td>0.8776116</td><td>2.8503990</td><td>1.350907</td><td>2.020237</td><td> 1.393018</td><td>1.416793</td><td>0.3683597</td><td>0.988993</td><td>1.702256</td><td>⋯</td><td>2.7927110</td><td>2.361211</td><td>0.9285051</td><td>1.4202320</td><td>0.5652247</td><td>1.2171914</td><td>       NA</td><td>1.4430165</td><td>1.156870</td><td>1.4081195</td></tr>\n",
       "\t<tr><th scope=row>HEK293T_P3F10_SPI1_d025_peak_18</th><td>2.117438</td><td>1.7552232</td><td>3.2889219</td><td>3.039541</td><td>2.952655</td><td> 3.482546</td><td>3.967020</td><td>4.2361370</td><td>3.461476</td><td>2.553384</td><td>⋯</td><td>2.7927110</td><td>1.180605</td><td>3.7140204</td><td>5.2075172</td><td>0.5652247</td><td>1.8257871</td><td>0.7031904</td><td>4.3290496</td><td>      NA</td><td>0.7040597</td></tr>\n",
       "</tbody>\n",
       "</table>\n"
      ],
      "text/latex": [
       "A data.frame: 6 × 252\n",
       "\\begin{tabular}{r|lllllllllllllllllllll}\n",
       "  & X1\\_HEK293T\\_P1A2\\_SP4\\_d100 & X2\\_HEK293T\\_P1B2\\_SP4\\_d100 & X3\\_HEK293T\\_P1C2\\_ELF1\\_d100 & X4\\_HEK293T\\_P1D2\\_ELF1\\_d100 & X5\\_HEK293T\\_P1E2\\_FOXP1\\_d100 & X6\\_HEK293T\\_P1F2\\_FOXP1\\_d100 & X7\\_HEK293T\\_P1G2\\_GATA1\\_d100 & X8\\_HEK293T\\_P1H2\\_GATA1\\_d100 & X9\\_HEK293T\\_P1A3\\_SP4\\_d075 & X10\\_HEK293T\\_P1B3\\_SP4\\_d075 & ⋯ & X407\\_HEK293T\\_P3G11\\_SPI1\\_d005 & X408\\_HEK293T\\_P3H11\\_SPI1\\_d005 & X409\\_HEK293T\\_P3A12\\_GFP\\_d100 & X410\\_HEK293T\\_P3B12\\_GFP\\_d100 & X411\\_HEK293T\\_P3C12\\_tetCTCF\\_d100 & X412\\_HEK293T\\_P3D12\\_tetCTCF\\_d100 & X413\\_HEK293T\\_P3E12\\_GFP\\_d100 & X414\\_HEK293T\\_P3F12\\_GFP\\_d100 & X415\\_HEK293T\\_P3G12\\_negctl\\_d100 & X416\\_HEK293T\\_P3H12\\_negctl\\_d100\\\\\n",
       "  & <dbl> & <dbl> & <dbl> & <dbl> & <dbl> & <dbl> & <dbl> & <dbl> & <dbl> & <dbl> & ⋯ & <dbl> & <dbl> & <dbl> & <dbl> & <dbl> & <dbl> & <dbl> & <dbl> & <dbl> & <dbl>\\\\\n",
       "\\hline\n",
       "\tHEK293T\\_P3A12\\_GFP\\_d100\\_peak\\_1 & 1.588078 & 0.8776116 & 0.8770458 & 1.688634 & 2.175640 &  1.393018 & 1.558472 & 1.6576188 & 1.483490 & 0.425564 & ⋯ & 1.1968762 & 1.770908 & 2.7855153 & 1.8936426 & 1.1304493 & 1.8257871 & 0.7031904 & 1.0822624 & 2.313741 & 1.4081195\\\\\n",
       "\tHEK293T\\_P3A12\\_GFP\\_d100\\_peak\\_17 & 6.087634 & 8.9955187 & 8.9897199 & 9.118624 & 8.857964 & 10.795892 & 8.500757 & 8.6564539 & 8.900937 & 5.957896 & ⋯ & 9.1760505 & 7.083633 & 9.2850511 & 7.5745705 & 7.3479207 & 7.9117439 & 9.1414749 & 6.8543286 & 7.519658 & 8.4487170\\\\\n",
       "\tHEK293T\\_P3G8\\_SPI1\\_d075\\_peak\\_6 & 1.588078 & 3.0716405 & 1.0963073 & 1.688634 & 2.175640 &  2.263655 & 0.991755 & 2.0259786 & 1.483490 & 1.276692 & ⋯ & 0.7979174 & 2.361211 & 4.6425255 & 2.3670533 & 1.6956740 & 0.6085957 & 2.8127615 & 0.3607541 & 1.156870 & 0.7040597\\\\\n",
       "\tHEK293T\\_P1B6\\_SP4\\_d005\\_peak\\_3 & 1.323399 & 1.7552232 & 2.4118761 & 3.714995 & 3.263461 &  3.134291 & 3.116944 & 2.2101584 & 2.472483 & 1.276692 & ⋯ & 1.1968762 & 1.770908 & 2.7855153 & 0.9468213 & 0.5652247 & 2.4343827 & 1.4063807 & 2.1645248 & 4.627482 & 3.5202987\\\\\n",
       "\tHEK293T\\_P3G7\\_SPI1\\_d100\\_peak\\_10 & 2.382118 & 0.8776116 & 2.8503990 & 1.350907 & 2.020237 &  1.393018 & 1.416793 & 0.3683597 & 0.988993 & 1.702256 & ⋯ & 2.7927110 & 2.361211 & 0.9285051 & 1.4202320 & 0.5652247 & 1.2171914 &        NA & 1.4430165 & 1.156870 & 1.4081195\\\\\n",
       "\tHEK293T\\_P3F10\\_SPI1\\_d025\\_peak\\_18 & 2.117438 & 1.7552232 & 3.2889219 & 3.039541 & 2.952655 &  3.482546 & 3.967020 & 4.2361370 & 3.461476 & 2.553384 & ⋯ & 2.7927110 & 1.180605 & 3.7140204 & 5.2075172 & 0.5652247 & 1.8257871 & 0.7031904 & 4.3290496 &       NA & 0.7040597\\\\\n",
       "\\end{tabular}\n"
      ],
      "text/markdown": [
       "\n",
       "A data.frame: 6 × 252\n",
       "\n",
       "| <!--/--> | X1_HEK293T_P1A2_SP4_d100 &lt;dbl&gt; | X2_HEK293T_P1B2_SP4_d100 &lt;dbl&gt; | X3_HEK293T_P1C2_ELF1_d100 &lt;dbl&gt; | X4_HEK293T_P1D2_ELF1_d100 &lt;dbl&gt; | X5_HEK293T_P1E2_FOXP1_d100 &lt;dbl&gt; | X6_HEK293T_P1F2_FOXP1_d100 &lt;dbl&gt; | X7_HEK293T_P1G2_GATA1_d100 &lt;dbl&gt; | X8_HEK293T_P1H2_GATA1_d100 &lt;dbl&gt; | X9_HEK293T_P1A3_SP4_d075 &lt;dbl&gt; | X10_HEK293T_P1B3_SP4_d075 &lt;dbl&gt; | ⋯ ⋯ | X407_HEK293T_P3G11_SPI1_d005 &lt;dbl&gt; | X408_HEK293T_P3H11_SPI1_d005 &lt;dbl&gt; | X409_HEK293T_P3A12_GFP_d100 &lt;dbl&gt; | X410_HEK293T_P3B12_GFP_d100 &lt;dbl&gt; | X411_HEK293T_P3C12_tetCTCF_d100 &lt;dbl&gt; | X412_HEK293T_P3D12_tetCTCF_d100 &lt;dbl&gt; | X413_HEK293T_P3E12_GFP_d100 &lt;dbl&gt; | X414_HEK293T_P3F12_GFP_d100 &lt;dbl&gt; | X415_HEK293T_P3G12_negctl_d100 &lt;dbl&gt; | X416_HEK293T_P3H12_negctl_d100 &lt;dbl&gt; |\n",
       "|---|---|---|---|---|---|---|---|---|---|---|---|---|---|---|---|---|---|---|---|---|---|\n",
       "| HEK293T_P3A12_GFP_d100_peak_1 | 1.588078 | 0.8776116 | 0.8770458 | 1.688634 | 2.175640 |  1.393018 | 1.558472 | 1.6576188 | 1.483490 | 0.425564 | ⋯ | 1.1968762 | 1.770908 | 2.7855153 | 1.8936426 | 1.1304493 | 1.8257871 | 0.7031904 | 1.0822624 | 2.313741 | 1.4081195 |\n",
       "| HEK293T_P3A12_GFP_d100_peak_17 | 6.087634 | 8.9955187 | 8.9897199 | 9.118624 | 8.857964 | 10.795892 | 8.500757 | 8.6564539 | 8.900937 | 5.957896 | ⋯ | 9.1760505 | 7.083633 | 9.2850511 | 7.5745705 | 7.3479207 | 7.9117439 | 9.1414749 | 6.8543286 | 7.519658 | 8.4487170 |\n",
       "| HEK293T_P3G8_SPI1_d075_peak_6 | 1.588078 | 3.0716405 | 1.0963073 | 1.688634 | 2.175640 |  2.263655 | 0.991755 | 2.0259786 | 1.483490 | 1.276692 | ⋯ | 0.7979174 | 2.361211 | 4.6425255 | 2.3670533 | 1.6956740 | 0.6085957 | 2.8127615 | 0.3607541 | 1.156870 | 0.7040597 |\n",
       "| HEK293T_P1B6_SP4_d005_peak_3 | 1.323399 | 1.7552232 | 2.4118761 | 3.714995 | 3.263461 |  3.134291 | 3.116944 | 2.2101584 | 2.472483 | 1.276692 | ⋯ | 1.1968762 | 1.770908 | 2.7855153 | 0.9468213 | 0.5652247 | 2.4343827 | 1.4063807 | 2.1645248 | 4.627482 | 3.5202987 |\n",
       "| HEK293T_P3G7_SPI1_d100_peak_10 | 2.382118 | 0.8776116 | 2.8503990 | 1.350907 | 2.020237 |  1.393018 | 1.416793 | 0.3683597 | 0.988993 | 1.702256 | ⋯ | 2.7927110 | 2.361211 | 0.9285051 | 1.4202320 | 0.5652247 | 1.2171914 |        NA | 1.4430165 | 1.156870 | 1.4081195 |\n",
       "| HEK293T_P3F10_SPI1_d025_peak_18 | 2.117438 | 1.7552232 | 3.2889219 | 3.039541 | 2.952655 |  3.482546 | 3.967020 | 4.2361370 | 3.461476 | 2.553384 | ⋯ | 2.7927110 | 1.180605 | 3.7140204 | 5.2075172 | 0.5652247 | 1.8257871 | 0.7031904 | 4.3290496 |       NA | 0.7040597 |\n",
       "\n"
      ],
      "text/plain": [
       "                                X1_HEK293T_P1A2_SP4_d100\n",
       "HEK293T_P3A12_GFP_d100_peak_1   1.588078                \n",
       "HEK293T_P3A12_GFP_d100_peak_17  6.087634                \n",
       "HEK293T_P3G8_SPI1_d075_peak_6   1.588078                \n",
       "HEK293T_P1B6_SP4_d005_peak_3    1.323399                \n",
       "HEK293T_P3G7_SPI1_d100_peak_10  2.382118                \n",
       "HEK293T_P3F10_SPI1_d025_peak_18 2.117438                \n",
       "                                X2_HEK293T_P1B2_SP4_d100\n",
       "HEK293T_P3A12_GFP_d100_peak_1   0.8776116               \n",
       "HEK293T_P3A12_GFP_d100_peak_17  8.9955187               \n",
       "HEK293T_P3G8_SPI1_d075_peak_6   3.0716405               \n",
       "HEK293T_P1B6_SP4_d005_peak_3    1.7552232               \n",
       "HEK293T_P3G7_SPI1_d100_peak_10  0.8776116               \n",
       "HEK293T_P3F10_SPI1_d025_peak_18 1.7552232               \n",
       "                                X3_HEK293T_P1C2_ELF1_d100\n",
       "HEK293T_P3A12_GFP_d100_peak_1   0.8770458                \n",
       "HEK293T_P3A12_GFP_d100_peak_17  8.9897199                \n",
       "HEK293T_P3G8_SPI1_d075_peak_6   1.0963073                \n",
       "HEK293T_P1B6_SP4_d005_peak_3    2.4118761                \n",
       "HEK293T_P3G7_SPI1_d100_peak_10  2.8503990                \n",
       "HEK293T_P3F10_SPI1_d025_peak_18 3.2889219                \n",
       "                                X4_HEK293T_P1D2_ELF1_d100\n",
       "HEK293T_P3A12_GFP_d100_peak_1   1.688634                 \n",
       "HEK293T_P3A12_GFP_d100_peak_17  9.118624                 \n",
       "HEK293T_P3G8_SPI1_d075_peak_6   1.688634                 \n",
       "HEK293T_P1B6_SP4_d005_peak_3    3.714995                 \n",
       "HEK293T_P3G7_SPI1_d100_peak_10  1.350907                 \n",
       "HEK293T_P3F10_SPI1_d025_peak_18 3.039541                 \n",
       "                                X5_HEK293T_P1E2_FOXP1_d100\n",
       "HEK293T_P3A12_GFP_d100_peak_1   2.175640                  \n",
       "HEK293T_P3A12_GFP_d100_peak_17  8.857964                  \n",
       "HEK293T_P3G8_SPI1_d075_peak_6   2.175640                  \n",
       "HEK293T_P1B6_SP4_d005_peak_3    3.263461                  \n",
       "HEK293T_P3G7_SPI1_d100_peak_10  2.020237                  \n",
       "HEK293T_P3F10_SPI1_d025_peak_18 2.952655                  \n",
       "                                X6_HEK293T_P1F2_FOXP1_d100\n",
       "HEK293T_P3A12_GFP_d100_peak_1    1.393018                 \n",
       "HEK293T_P3A12_GFP_d100_peak_17  10.795892                 \n",
       "HEK293T_P3G8_SPI1_d075_peak_6    2.263655                 \n",
       "HEK293T_P1B6_SP4_d005_peak_3     3.134291                 \n",
       "HEK293T_P3G7_SPI1_d100_peak_10   1.393018                 \n",
       "HEK293T_P3F10_SPI1_d025_peak_18  3.482546                 \n",
       "                                X7_HEK293T_P1G2_GATA1_d100\n",
       "HEK293T_P3A12_GFP_d100_peak_1   1.558472                  \n",
       "HEK293T_P3A12_GFP_d100_peak_17  8.500757                  \n",
       "HEK293T_P3G8_SPI1_d075_peak_6   0.991755                  \n",
       "HEK293T_P1B6_SP4_d005_peak_3    3.116944                  \n",
       "HEK293T_P3G7_SPI1_d100_peak_10  1.416793                  \n",
       "HEK293T_P3F10_SPI1_d025_peak_18 3.967020                  \n",
       "                                X8_HEK293T_P1H2_GATA1_d100\n",
       "HEK293T_P3A12_GFP_d100_peak_1   1.6576188                 \n",
       "HEK293T_P3A12_GFP_d100_peak_17  8.6564539                 \n",
       "HEK293T_P3G8_SPI1_d075_peak_6   2.0259786                 \n",
       "HEK293T_P1B6_SP4_d005_peak_3    2.2101584                 \n",
       "HEK293T_P3G7_SPI1_d100_peak_10  0.3683597                 \n",
       "HEK293T_P3F10_SPI1_d025_peak_18 4.2361370                 \n",
       "                                X9_HEK293T_P1A3_SP4_d075\n",
       "HEK293T_P3A12_GFP_d100_peak_1   1.483490                \n",
       "HEK293T_P3A12_GFP_d100_peak_17  8.900937                \n",
       "HEK293T_P3G8_SPI1_d075_peak_6   1.483490                \n",
       "HEK293T_P1B6_SP4_d005_peak_3    2.472483                \n",
       "HEK293T_P3G7_SPI1_d100_peak_10  0.988993                \n",
       "HEK293T_P3F10_SPI1_d025_peak_18 3.461476                \n",
       "                                X10_HEK293T_P1B3_SP4_d075 ⋯\n",
       "HEK293T_P3A12_GFP_d100_peak_1   0.425564                  ⋯\n",
       "HEK293T_P3A12_GFP_d100_peak_17  5.957896                  ⋯\n",
       "HEK293T_P3G8_SPI1_d075_peak_6   1.276692                  ⋯\n",
       "HEK293T_P1B6_SP4_d005_peak_3    1.276692                  ⋯\n",
       "HEK293T_P3G7_SPI1_d100_peak_10  1.702256                  ⋯\n",
       "HEK293T_P3F10_SPI1_d025_peak_18 2.553384                  ⋯\n",
       "                                X407_HEK293T_P3G11_SPI1_d005\n",
       "HEK293T_P3A12_GFP_d100_peak_1   1.1968762                   \n",
       "HEK293T_P3A12_GFP_d100_peak_17  9.1760505                   \n",
       "HEK293T_P3G8_SPI1_d075_peak_6   0.7979174                   \n",
       "HEK293T_P1B6_SP4_d005_peak_3    1.1968762                   \n",
       "HEK293T_P3G7_SPI1_d100_peak_10  2.7927110                   \n",
       "HEK293T_P3F10_SPI1_d025_peak_18 2.7927110                   \n",
       "                                X408_HEK293T_P3H11_SPI1_d005\n",
       "HEK293T_P3A12_GFP_d100_peak_1   1.770908                    \n",
       "HEK293T_P3A12_GFP_d100_peak_17  7.083633                    \n",
       "HEK293T_P3G8_SPI1_d075_peak_6   2.361211                    \n",
       "HEK293T_P1B6_SP4_d005_peak_3    1.770908                    \n",
       "HEK293T_P3G7_SPI1_d100_peak_10  2.361211                    \n",
       "HEK293T_P3F10_SPI1_d025_peak_18 1.180605                    \n",
       "                                X409_HEK293T_P3A12_GFP_d100\n",
       "HEK293T_P3A12_GFP_d100_peak_1   2.7855153                  \n",
       "HEK293T_P3A12_GFP_d100_peak_17  9.2850511                  \n",
       "HEK293T_P3G8_SPI1_d075_peak_6   4.6425255                  \n",
       "HEK293T_P1B6_SP4_d005_peak_3    2.7855153                  \n",
       "HEK293T_P3G7_SPI1_d100_peak_10  0.9285051                  \n",
       "HEK293T_P3F10_SPI1_d025_peak_18 3.7140204                  \n",
       "                                X410_HEK293T_P3B12_GFP_d100\n",
       "HEK293T_P3A12_GFP_d100_peak_1   1.8936426                  \n",
       "HEK293T_P3A12_GFP_d100_peak_17  7.5745705                  \n",
       "HEK293T_P3G8_SPI1_d075_peak_6   2.3670533                  \n",
       "HEK293T_P1B6_SP4_d005_peak_3    0.9468213                  \n",
       "HEK293T_P3G7_SPI1_d100_peak_10  1.4202320                  \n",
       "HEK293T_P3F10_SPI1_d025_peak_18 5.2075172                  \n",
       "                                X411_HEK293T_P3C12_tetCTCF_d100\n",
       "HEK293T_P3A12_GFP_d100_peak_1   1.1304493                      \n",
       "HEK293T_P3A12_GFP_d100_peak_17  7.3479207                      \n",
       "HEK293T_P3G8_SPI1_d075_peak_6   1.6956740                      \n",
       "HEK293T_P1B6_SP4_d005_peak_3    0.5652247                      \n",
       "HEK293T_P3G7_SPI1_d100_peak_10  0.5652247                      \n",
       "HEK293T_P3F10_SPI1_d025_peak_18 0.5652247                      \n",
       "                                X412_HEK293T_P3D12_tetCTCF_d100\n",
       "HEK293T_P3A12_GFP_d100_peak_1   1.8257871                      \n",
       "HEK293T_P3A12_GFP_d100_peak_17  7.9117439                      \n",
       "HEK293T_P3G8_SPI1_d075_peak_6   0.6085957                      \n",
       "HEK293T_P1B6_SP4_d005_peak_3    2.4343827                      \n",
       "HEK293T_P3G7_SPI1_d100_peak_10  1.2171914                      \n",
       "HEK293T_P3F10_SPI1_d025_peak_18 1.8257871                      \n",
       "                                X413_HEK293T_P3E12_GFP_d100\n",
       "HEK293T_P3A12_GFP_d100_peak_1   0.7031904                  \n",
       "HEK293T_P3A12_GFP_d100_peak_17  9.1414749                  \n",
       "HEK293T_P3G8_SPI1_d075_peak_6   2.8127615                  \n",
       "HEK293T_P1B6_SP4_d005_peak_3    1.4063807                  \n",
       "HEK293T_P3G7_SPI1_d100_peak_10         NA                  \n",
       "HEK293T_P3F10_SPI1_d025_peak_18 0.7031904                  \n",
       "                                X414_HEK293T_P3F12_GFP_d100\n",
       "HEK293T_P3A12_GFP_d100_peak_1   1.0822624                  \n",
       "HEK293T_P3A12_GFP_d100_peak_17  6.8543286                  \n",
       "HEK293T_P3G8_SPI1_d075_peak_6   0.3607541                  \n",
       "HEK293T_P1B6_SP4_d005_peak_3    2.1645248                  \n",
       "HEK293T_P3G7_SPI1_d100_peak_10  1.4430165                  \n",
       "HEK293T_P3F10_SPI1_d025_peak_18 4.3290496                  \n",
       "                                X415_HEK293T_P3G12_negctl_d100\n",
       "HEK293T_P3A12_GFP_d100_peak_1   2.313741                      \n",
       "HEK293T_P3A12_GFP_d100_peak_17  7.519658                      \n",
       "HEK293T_P3G8_SPI1_d075_peak_6   1.156870                      \n",
       "HEK293T_P1B6_SP4_d005_peak_3    4.627482                      \n",
       "HEK293T_P3G7_SPI1_d100_peak_10  1.156870                      \n",
       "HEK293T_P3F10_SPI1_d025_peak_18       NA                      \n",
       "                                X416_HEK293T_P3H12_negctl_d100\n",
       "HEK293T_P3A12_GFP_d100_peak_1   1.4081195                     \n",
       "HEK293T_P3A12_GFP_d100_peak_17  8.4487170                     \n",
       "HEK293T_P3G8_SPI1_d075_peak_6   0.7040597                     \n",
       "HEK293T_P1B6_SP4_d005_peak_3    3.5202987                     \n",
       "HEK293T_P3G7_SPI1_d100_peak_10  1.4081195                     \n",
       "HEK293T_P3F10_SPI1_d025_peak_18 0.7040597                     "
      ]
     },
     "metadata": {},
     "output_type": "display_data"
    },
    {
     "data": {
      "text/html": [
       "<style>\n",
       ".list-inline {list-style: none; margin:0; padding: 0}\n",
       ".list-inline>li {display: inline-block}\n",
       ".list-inline>li:not(:last-child)::after {content: \"\\00b7\"; padding: 0 .5ex}\n",
       "</style>\n",
       "<ol class=list-inline><li>608176</li><li>252</li></ol>\n"
      ],
      "text/latex": [
       "\\begin{enumerate*}\n",
       "\\item 608176\n",
       "\\item 252\n",
       "\\end{enumerate*}\n"
      ],
      "text/markdown": [
       "1. 608176\n",
       "2. 252\n",
       "\n",
       "\n"
      ],
      "text/plain": [
       "[1] 608176    252"
      ]
     },
     "metadata": {},
     "output_type": "display_data"
    }
   ],
   "source": [
    "# read in ATAC CPM values\n",
    "cpm_df <- read.csv(\"../../output/02-atac/01/cpm.tsv\", sep=\" \") # just use the cpm normalized peak count matrix\n",
    "cpm_df %>% head\n",
    "dim(cpm_df)"
   ]
  },
  {
   "cell_type": "code",
   "execution_count": null,
   "id": "174f1f43-d415-4c2a-b862-21b37728e519",
   "metadata": {
    "vscode": {
     "languageId": "r"
    }
   },
   "outputs": [
    {
     "data": {
      "text/plain": [
       "class: RangedSummarizedExperiment \n",
       "dim: 608176 633 \n",
       "metadata(0):\n",
       "assays(3): motifScores motifMatches motifCounts\n",
       "rownames(608176): HEK293T_P3A12_GFP_d100_peak_1\n",
       "  HEK293T_P3A12_GFP_d100_peak_17 ...\n",
       "  HEK293T_P3A12_GFP_d100_peak_1824818\n",
       "  HEK293T_P2D8_ALX4_d075_peak_271879\n",
       "rowData names(0):\n",
       "colnames(633): MA0030.1_FOXF2 MA0031.1_FOXD1 ... MA0528.2_ZNF263\n",
       "  MA0609.2_CREM\n",
       "colData names(1): name"
      ]
     },
     "metadata": {},
     "output_type": "display_data"
    }
   ],
   "source": [
    "# read the motif matching results\n",
    "motif.scores <- readRDS(\"../../output/02-atac/03/motif.scores.JASPAR2020.rds\") # this is JASPAR motifs\n",
    "motif.scores\n",
    "\n",
    "if (is.null(rownames(motif.scores))){\n",
    "    # read in the motif peak names\n",
    "    dsa_norm <- loadDsAcc('../../output/02-atac/01/dsa_norm_rpkmlog2quantile/')\n",
    "    region <- \"filteredConsensus\"\n",
    "\n",
    "    Peaks <- as.data.frame(dsa_norm@coord[[region]],row.names = NULL, stringsAsFactors=FALSE) %>%\n",
    "    dplyr::select(c(\"seqnames\",\"start\",\"end\",\"name\"))\n",
    "    rownames(motif.scores) <- Peaks$name\n",
    "    Peaks <- GRanges(Peaks)\n",
    "}"
   ]
  },
  {
   "cell_type": "markdown",
   "id": "04221ee7-8776-4186-ae56-eeef759d0642",
   "metadata": {
    "toc-hr-collapsed": true
   },
   "source": [
    "### inputs"
   ]
  },
  {
   "cell_type": "code",
   "execution_count": 5,
   "id": "f29c898a-6b47-486d-907f-2c6562515229",
   "metadata": {
    "vscode": {
     "languageId": "r"
    }
   },
   "outputs": [],
   "source": [
    "# inputs\n",
    "motif_code_ls <- c(\n",
    "                   \"ALX4\"=\"MA0681.2_PHOX2B\",\n",
    "                   \"ELF1\"=\"MA0473.3_ELF1\",\n",
    "                   \"IRF4\"=\"MA1419.1_IRF4\",\n",
    "                   \"KLF1\"=\"MA0039.4_KLF4\",\n",
    "                   \"KLF4\"=\"MA0039.4_KLF4\",\n",
    "                   \"LEF1\"=\"MA0768.1_LEF1\",\n",
    "                  #  \"NR4A1\"=\"MA1112.2_NR4A1\",\n",
    "                   \"OCT4\"=\"MA1115.1_POU5F1\",\n",
    "                  #  \"PRDM1\"=\"MA0508.3_PRDM1\",\n",
    "                   \"SOX2\"=\"MA0143.4_SOX2\",\n",
    "                   \"SP4\"=\"MA0685.1_SP4\",\n",
    "                   \"SPI1\"=\"MA0080.5_SPI1\",\n",
    "                   \"TCF3\"=\"MA0522.3_TCF3\")\n",
    "\n",
    "group1 = \"GFP_1\" # reference level\n",
    "region = \"filteredConsensus\"\n",
    "\n",
    "i = 9\n",
    "TF = names(motif_code_ls)[i]\n",
    "group2 = paste0(TF, \"_1\")\n",
    "motif_code = motif_code_ls[i]"
   ]
  },
  {
   "cell_type": "code",
   "execution_count": 129,
   "id": "7adf96c3",
   "metadata": {
    "vscode": {
     "languageId": "r"
    }
   },
   "outputs": [],
   "source": [
    "# for (i in seq_along(motif_code_ls)){\n",
    "#   TF = names(motif_code_ls)[i]\n",
    "#   group2 = paste0(TF, \"_1\")\n",
    "#   motif_code = motif_code_ls[i]\n",
    "#   message(TF)\n",
    "\n",
    "# }"
   ]
  },
  {
   "cell_type": "markdown",
   "id": "50c2e6e7-fb56-4d64-9665-1c2c8ab69dbd",
   "metadata": {},
   "source": [
    "### read TF specific ATAC CPM, motif matching, differential analysis and sensitivity analysis results"
   ]
  },
  {
   "cell_type": "code",
   "execution_count": 130,
   "id": "eba61073-4fd2-44ed-9bfd-01220f8f48fe",
   "metadata": {
    "vscode": {
     "languageId": "r"
    }
   },
   "outputs": [
    {
     "data": {
      "text/html": [
       "<table class=\"dataframe\">\n",
       "<caption>A data.frame: 6 × 18</caption>\n",
       "<thead>\n",
       "\t<tr><th></th><th scope=col>X81_HEK293T_P1A12_GFP_d100</th><th scope=col>X82_HEK293T_P1B12_GFP_d100</th><th scope=col>X245_HEK293T_P2A12_GFP_d100</th><th scope=col>X246_HEK293T_P2B12_GFP_d100</th><th scope=col>X409_HEK293T_P3A12_GFP_d100</th><th scope=col>X410_HEK293T_P3B12_GFP_d100</th><th scope=col>X413_HEK293T_P3E12_GFP_d100</th><th scope=col>X414_HEK293T_P3F12_GFP_d100</th><th scope=col>X209_HEK293T_P2E7_TCF3_d100</th><th scope=col>X210_HEK293T_P2F7_TCF3_d100</th><th scope=col>X217_HEK293T_P2E8_TCF3_d075</th><th scope=col>X218_HEK293T_P2F8_TCF3_d075</th><th scope=col>X225_HEK293T_P2E9_TCF3_d050</th><th scope=col>X226_HEK293T_P2F9_TCF3_d050</th><th scope=col>X233_HEK293T_P2E10_TCF3_d025</th><th scope=col>X234_HEK293T_P2F10_TCF3_d025</th><th scope=col>X241_HEK293T_P2E11_TCF3_d005</th><th scope=col>X242_HEK293T_P2F11_TCF3_d005</th></tr>\n",
       "\t<tr><th></th><th scope=col>&lt;dbl&gt;</th><th scope=col>&lt;dbl&gt;</th><th scope=col>&lt;dbl&gt;</th><th scope=col>&lt;dbl&gt;</th><th scope=col>&lt;dbl&gt;</th><th scope=col>&lt;dbl&gt;</th><th scope=col>&lt;dbl&gt;</th><th scope=col>&lt;dbl&gt;</th><th scope=col>&lt;dbl&gt;</th><th scope=col>&lt;dbl&gt;</th><th scope=col>&lt;dbl&gt;</th><th scope=col>&lt;dbl&gt;</th><th scope=col>&lt;dbl&gt;</th><th scope=col>&lt;dbl&gt;</th><th scope=col>&lt;dbl&gt;</th><th scope=col>&lt;dbl&gt;</th><th scope=col>&lt;dbl&gt;</th><th scope=col>&lt;dbl&gt;</th></tr>\n",
       "</thead>\n",
       "<tbody>\n",
       "\t<tr><th scope=row>HEK293T_P3A12_GFP_d100_peak_1</th><td> 1.466495</td><td>1.566060</td><td>1.0934822</td><td>0.2761946</td><td>2.7855153</td><td>1.8936426</td><td>0.7031904</td><td>1.0822624</td><td>0.5449914</td><td>1.1310029</td><td>1.0151701</td><td>0.4203265</td><td>0.7844106</td><td>0.7192666</td><td>0.3483234</td><td>       NA</td><td>0.3605537</td><td>0.6836667</td></tr>\n",
       "\t<tr><th scope=row>HEK293T_P3A12_GFP_d100_peak_17</th><td>10.632089</td><td>9.983635</td><td>6.5608929</td><td>4.1429185</td><td>9.2850511</td><td>7.5745705</td><td>9.1414749</td><td>6.8543286</td><td>4.4961787</td><td>3.2516335</td><td>4.0606805</td><td>3.9230477</td><td>3.5298478</td><td>4.1957220</td><td>4.5282046</td><td>3.2295187</td><td>4.8674749</td><td>5.9820838</td></tr>\n",
       "\t<tr><th scope=row>HEK293T_P3G8_SPI1_d075_peak_6</th><td> 1.466495</td><td>1.566060</td><td>1.0934822</td><td>2.2095566</td><td>4.6425255</td><td>2.3670533</td><td>2.8127615</td><td>0.3607541</td><td>1.7712219</td><td>1.6965044</td><td>0.4350729</td><td>0.5604354</td><td>0.9151457</td><td>0.7192666</td><td>0.5224851</td><td>1.0765062</td><td>0.7211074</td><td>0.5127500</td></tr>\n",
       "\t<tr><th scope=row>HEK293T_P1B6_SP4_d005_peak_3</th><td> 2.199742</td><td>2.349091</td><td>3.2804465</td><td>2.2095566</td><td>2.7855153</td><td>0.9468213</td><td>1.4063807</td><td>2.1645248</td><td>0.4087435</td><td>0.7068768</td><td>0.7251215</td><td>0.9807619</td><td>0.9151457</td><td>1.1987777</td><td>1.0449703</td><td>1.0765062</td><td>1.2619379</td><td>1.1964168</td></tr>\n",
       "\t<tr><th scope=row>HEK293T_P3G7_SPI1_d100_peak_10</th><td> 1.466495</td><td>1.957575</td><td>1.4579762</td><td>0.5523891</td><td>0.9285051</td><td>1.4202320</td><td>       NA</td><td>1.4430165</td><td>0.1362478</td><td>0.9896276</td><td>0.2900486</td><td>0.2802177</td><td>0.1307351</td><td>0.7192666</td><td>0.5224851</td><td>0.5382531</td><td>0.7211074</td><td>0.5127500</td></tr>\n",
       "\t<tr><th scope=row>HEK293T_P3F10_SPI1_d025_peak_18</th><td> 3.299614</td><td>2.544848</td><td>0.7289881</td><td>1.6571674</td><td>3.7140204</td><td>5.2075172</td><td>0.7031904</td><td>4.3290496</td><td>0.5449914</td><td>1.6965044</td><td>1.0151701</td><td>0.9807619</td><td>1.5688212</td><td>1.5584110</td><td>1.3932937</td><td>1.0765062</td><td>1.4422148</td><td>2.0510002</td></tr>\n",
       "</tbody>\n",
       "</table>\n"
      ],
      "text/latex": [
       "A data.frame: 6 × 18\n",
       "\\begin{tabular}{r|llllllllllllllllll}\n",
       "  & X81\\_HEK293T\\_P1A12\\_GFP\\_d100 & X82\\_HEK293T\\_P1B12\\_GFP\\_d100 & X245\\_HEK293T\\_P2A12\\_GFP\\_d100 & X246\\_HEK293T\\_P2B12\\_GFP\\_d100 & X409\\_HEK293T\\_P3A12\\_GFP\\_d100 & X410\\_HEK293T\\_P3B12\\_GFP\\_d100 & X413\\_HEK293T\\_P3E12\\_GFP\\_d100 & X414\\_HEK293T\\_P3F12\\_GFP\\_d100 & X209\\_HEK293T\\_P2E7\\_TCF3\\_d100 & X210\\_HEK293T\\_P2F7\\_TCF3\\_d100 & X217\\_HEK293T\\_P2E8\\_TCF3\\_d075 & X218\\_HEK293T\\_P2F8\\_TCF3\\_d075 & X225\\_HEK293T\\_P2E9\\_TCF3\\_d050 & X226\\_HEK293T\\_P2F9\\_TCF3\\_d050 & X233\\_HEK293T\\_P2E10\\_TCF3\\_d025 & X234\\_HEK293T\\_P2F10\\_TCF3\\_d025 & X241\\_HEK293T\\_P2E11\\_TCF3\\_d005 & X242\\_HEK293T\\_P2F11\\_TCF3\\_d005\\\\\n",
       "  & <dbl> & <dbl> & <dbl> & <dbl> & <dbl> & <dbl> & <dbl> & <dbl> & <dbl> & <dbl> & <dbl> & <dbl> & <dbl> & <dbl> & <dbl> & <dbl> & <dbl> & <dbl>\\\\\n",
       "\\hline\n",
       "\tHEK293T\\_P3A12\\_GFP\\_d100\\_peak\\_1 &  1.466495 & 1.566060 & 1.0934822 & 0.2761946 & 2.7855153 & 1.8936426 & 0.7031904 & 1.0822624 & 0.5449914 & 1.1310029 & 1.0151701 & 0.4203265 & 0.7844106 & 0.7192666 & 0.3483234 &        NA & 0.3605537 & 0.6836667\\\\\n",
       "\tHEK293T\\_P3A12\\_GFP\\_d100\\_peak\\_17 & 10.632089 & 9.983635 & 6.5608929 & 4.1429185 & 9.2850511 & 7.5745705 & 9.1414749 & 6.8543286 & 4.4961787 & 3.2516335 & 4.0606805 & 3.9230477 & 3.5298478 & 4.1957220 & 4.5282046 & 3.2295187 & 4.8674749 & 5.9820838\\\\\n",
       "\tHEK293T\\_P3G8\\_SPI1\\_d075\\_peak\\_6 &  1.466495 & 1.566060 & 1.0934822 & 2.2095566 & 4.6425255 & 2.3670533 & 2.8127615 & 0.3607541 & 1.7712219 & 1.6965044 & 0.4350729 & 0.5604354 & 0.9151457 & 0.7192666 & 0.5224851 & 1.0765062 & 0.7211074 & 0.5127500\\\\\n",
       "\tHEK293T\\_P1B6\\_SP4\\_d005\\_peak\\_3 &  2.199742 & 2.349091 & 3.2804465 & 2.2095566 & 2.7855153 & 0.9468213 & 1.4063807 & 2.1645248 & 0.4087435 & 0.7068768 & 0.7251215 & 0.9807619 & 0.9151457 & 1.1987777 & 1.0449703 & 1.0765062 & 1.2619379 & 1.1964168\\\\\n",
       "\tHEK293T\\_P3G7\\_SPI1\\_d100\\_peak\\_10 &  1.466495 & 1.957575 & 1.4579762 & 0.5523891 & 0.9285051 & 1.4202320 &        NA & 1.4430165 & 0.1362478 & 0.9896276 & 0.2900486 & 0.2802177 & 0.1307351 & 0.7192666 & 0.5224851 & 0.5382531 & 0.7211074 & 0.5127500\\\\\n",
       "\tHEK293T\\_P3F10\\_SPI1\\_d025\\_peak\\_18 &  3.299614 & 2.544848 & 0.7289881 & 1.6571674 & 3.7140204 & 5.2075172 & 0.7031904 & 4.3290496 & 0.5449914 & 1.6965044 & 1.0151701 & 0.9807619 & 1.5688212 & 1.5584110 & 1.3932937 & 1.0765062 & 1.4422148 & 2.0510002\\\\\n",
       "\\end{tabular}\n"
      ],
      "text/markdown": [
       "\n",
       "A data.frame: 6 × 18\n",
       "\n",
       "| <!--/--> | X81_HEK293T_P1A12_GFP_d100 &lt;dbl&gt; | X82_HEK293T_P1B12_GFP_d100 &lt;dbl&gt; | X245_HEK293T_P2A12_GFP_d100 &lt;dbl&gt; | X246_HEK293T_P2B12_GFP_d100 &lt;dbl&gt; | X409_HEK293T_P3A12_GFP_d100 &lt;dbl&gt; | X410_HEK293T_P3B12_GFP_d100 &lt;dbl&gt; | X413_HEK293T_P3E12_GFP_d100 &lt;dbl&gt; | X414_HEK293T_P3F12_GFP_d100 &lt;dbl&gt; | X209_HEK293T_P2E7_TCF3_d100 &lt;dbl&gt; | X210_HEK293T_P2F7_TCF3_d100 &lt;dbl&gt; | X217_HEK293T_P2E8_TCF3_d075 &lt;dbl&gt; | X218_HEK293T_P2F8_TCF3_d075 &lt;dbl&gt; | X225_HEK293T_P2E9_TCF3_d050 &lt;dbl&gt; | X226_HEK293T_P2F9_TCF3_d050 &lt;dbl&gt; | X233_HEK293T_P2E10_TCF3_d025 &lt;dbl&gt; | X234_HEK293T_P2F10_TCF3_d025 &lt;dbl&gt; | X241_HEK293T_P2E11_TCF3_d005 &lt;dbl&gt; | X242_HEK293T_P2F11_TCF3_d005 &lt;dbl&gt; |\n",
       "|---|---|---|---|---|---|---|---|---|---|---|---|---|---|---|---|---|---|---|\n",
       "| HEK293T_P3A12_GFP_d100_peak_1 |  1.466495 | 1.566060 | 1.0934822 | 0.2761946 | 2.7855153 | 1.8936426 | 0.7031904 | 1.0822624 | 0.5449914 | 1.1310029 | 1.0151701 | 0.4203265 | 0.7844106 | 0.7192666 | 0.3483234 |        NA | 0.3605537 | 0.6836667 |\n",
       "| HEK293T_P3A12_GFP_d100_peak_17 | 10.632089 | 9.983635 | 6.5608929 | 4.1429185 | 9.2850511 | 7.5745705 | 9.1414749 | 6.8543286 | 4.4961787 | 3.2516335 | 4.0606805 | 3.9230477 | 3.5298478 | 4.1957220 | 4.5282046 | 3.2295187 | 4.8674749 | 5.9820838 |\n",
       "| HEK293T_P3G8_SPI1_d075_peak_6 |  1.466495 | 1.566060 | 1.0934822 | 2.2095566 | 4.6425255 | 2.3670533 | 2.8127615 | 0.3607541 | 1.7712219 | 1.6965044 | 0.4350729 | 0.5604354 | 0.9151457 | 0.7192666 | 0.5224851 | 1.0765062 | 0.7211074 | 0.5127500 |\n",
       "| HEK293T_P1B6_SP4_d005_peak_3 |  2.199742 | 2.349091 | 3.2804465 | 2.2095566 | 2.7855153 | 0.9468213 | 1.4063807 | 2.1645248 | 0.4087435 | 0.7068768 | 0.7251215 | 0.9807619 | 0.9151457 | 1.1987777 | 1.0449703 | 1.0765062 | 1.2619379 | 1.1964168 |\n",
       "| HEK293T_P3G7_SPI1_d100_peak_10 |  1.466495 | 1.957575 | 1.4579762 | 0.5523891 | 0.9285051 | 1.4202320 |        NA | 1.4430165 | 0.1362478 | 0.9896276 | 0.2900486 | 0.2802177 | 0.1307351 | 0.7192666 | 0.5224851 | 0.5382531 | 0.7211074 | 0.5127500 |\n",
       "| HEK293T_P3F10_SPI1_d025_peak_18 |  3.299614 | 2.544848 | 0.7289881 | 1.6571674 | 3.7140204 | 5.2075172 | 0.7031904 | 4.3290496 | 0.5449914 | 1.6965044 | 1.0151701 | 0.9807619 | 1.5688212 | 1.5584110 | 1.3932937 | 1.0765062 | 1.4422148 | 2.0510002 |\n",
       "\n"
      ],
      "text/plain": [
       "                                X81_HEK293T_P1A12_GFP_d100\n",
       "HEK293T_P3A12_GFP_d100_peak_1    1.466495                 \n",
       "HEK293T_P3A12_GFP_d100_peak_17  10.632089                 \n",
       "HEK293T_P3G8_SPI1_d075_peak_6    1.466495                 \n",
       "HEK293T_P1B6_SP4_d005_peak_3     2.199742                 \n",
       "HEK293T_P3G7_SPI1_d100_peak_10   1.466495                 \n",
       "HEK293T_P3F10_SPI1_d025_peak_18  3.299614                 \n",
       "                                X82_HEK293T_P1B12_GFP_d100\n",
       "HEK293T_P3A12_GFP_d100_peak_1   1.566060                  \n",
       "HEK293T_P3A12_GFP_d100_peak_17  9.983635                  \n",
       "HEK293T_P3G8_SPI1_d075_peak_6   1.566060                  \n",
       "HEK293T_P1B6_SP4_d005_peak_3    2.349091                  \n",
       "HEK293T_P3G7_SPI1_d100_peak_10  1.957575                  \n",
       "HEK293T_P3F10_SPI1_d025_peak_18 2.544848                  \n",
       "                                X245_HEK293T_P2A12_GFP_d100\n",
       "HEK293T_P3A12_GFP_d100_peak_1   1.0934822                  \n",
       "HEK293T_P3A12_GFP_d100_peak_17  6.5608929                  \n",
       "HEK293T_P3G8_SPI1_d075_peak_6   1.0934822                  \n",
       "HEK293T_P1B6_SP4_d005_peak_3    3.2804465                  \n",
       "HEK293T_P3G7_SPI1_d100_peak_10  1.4579762                  \n",
       "HEK293T_P3F10_SPI1_d025_peak_18 0.7289881                  \n",
       "                                X246_HEK293T_P2B12_GFP_d100\n",
       "HEK293T_P3A12_GFP_d100_peak_1   0.2761946                  \n",
       "HEK293T_P3A12_GFP_d100_peak_17  4.1429185                  \n",
       "HEK293T_P3G8_SPI1_d075_peak_6   2.2095566                  \n",
       "HEK293T_P1B6_SP4_d005_peak_3    2.2095566                  \n",
       "HEK293T_P3G7_SPI1_d100_peak_10  0.5523891                  \n",
       "HEK293T_P3F10_SPI1_d025_peak_18 1.6571674                  \n",
       "                                X409_HEK293T_P3A12_GFP_d100\n",
       "HEK293T_P3A12_GFP_d100_peak_1   2.7855153                  \n",
       "HEK293T_P3A12_GFP_d100_peak_17  9.2850511                  \n",
       "HEK293T_P3G8_SPI1_d075_peak_6   4.6425255                  \n",
       "HEK293T_P1B6_SP4_d005_peak_3    2.7855153                  \n",
       "HEK293T_P3G7_SPI1_d100_peak_10  0.9285051                  \n",
       "HEK293T_P3F10_SPI1_d025_peak_18 3.7140204                  \n",
       "                                X410_HEK293T_P3B12_GFP_d100\n",
       "HEK293T_P3A12_GFP_d100_peak_1   1.8936426                  \n",
       "HEK293T_P3A12_GFP_d100_peak_17  7.5745705                  \n",
       "HEK293T_P3G8_SPI1_d075_peak_6   2.3670533                  \n",
       "HEK293T_P1B6_SP4_d005_peak_3    0.9468213                  \n",
       "HEK293T_P3G7_SPI1_d100_peak_10  1.4202320                  \n",
       "HEK293T_P3F10_SPI1_d025_peak_18 5.2075172                  \n",
       "                                X413_HEK293T_P3E12_GFP_d100\n",
       "HEK293T_P3A12_GFP_d100_peak_1   0.7031904                  \n",
       "HEK293T_P3A12_GFP_d100_peak_17  9.1414749                  \n",
       "HEK293T_P3G8_SPI1_d075_peak_6   2.8127615                  \n",
       "HEK293T_P1B6_SP4_d005_peak_3    1.4063807                  \n",
       "HEK293T_P3G7_SPI1_d100_peak_10         NA                  \n",
       "HEK293T_P3F10_SPI1_d025_peak_18 0.7031904                  \n",
       "                                X414_HEK293T_P3F12_GFP_d100\n",
       "HEK293T_P3A12_GFP_d100_peak_1   1.0822624                  \n",
       "HEK293T_P3A12_GFP_d100_peak_17  6.8543286                  \n",
       "HEK293T_P3G8_SPI1_d075_peak_6   0.3607541                  \n",
       "HEK293T_P1B6_SP4_d005_peak_3    2.1645248                  \n",
       "HEK293T_P3G7_SPI1_d100_peak_10  1.4430165                  \n",
       "HEK293T_P3F10_SPI1_d025_peak_18 4.3290496                  \n",
       "                                X209_HEK293T_P2E7_TCF3_d100\n",
       "HEK293T_P3A12_GFP_d100_peak_1   0.5449914                  \n",
       "HEK293T_P3A12_GFP_d100_peak_17  4.4961787                  \n",
       "HEK293T_P3G8_SPI1_d075_peak_6   1.7712219                  \n",
       "HEK293T_P1B6_SP4_d005_peak_3    0.4087435                  \n",
       "HEK293T_P3G7_SPI1_d100_peak_10  0.1362478                  \n",
       "HEK293T_P3F10_SPI1_d025_peak_18 0.5449914                  \n",
       "                                X210_HEK293T_P2F7_TCF3_d100\n",
       "HEK293T_P3A12_GFP_d100_peak_1   1.1310029                  \n",
       "HEK293T_P3A12_GFP_d100_peak_17  3.2516335                  \n",
       "HEK293T_P3G8_SPI1_d075_peak_6   1.6965044                  \n",
       "HEK293T_P1B6_SP4_d005_peak_3    0.7068768                  \n",
       "HEK293T_P3G7_SPI1_d100_peak_10  0.9896276                  \n",
       "HEK293T_P3F10_SPI1_d025_peak_18 1.6965044                  \n",
       "                                X217_HEK293T_P2E8_TCF3_d075\n",
       "HEK293T_P3A12_GFP_d100_peak_1   1.0151701                  \n",
       "HEK293T_P3A12_GFP_d100_peak_17  4.0606805                  \n",
       "HEK293T_P3G8_SPI1_d075_peak_6   0.4350729                  \n",
       "HEK293T_P1B6_SP4_d005_peak_3    0.7251215                  \n",
       "HEK293T_P3G7_SPI1_d100_peak_10  0.2900486                  \n",
       "HEK293T_P3F10_SPI1_d025_peak_18 1.0151701                  \n",
       "                                X218_HEK293T_P2F8_TCF3_d075\n",
       "HEK293T_P3A12_GFP_d100_peak_1   0.4203265                  \n",
       "HEK293T_P3A12_GFP_d100_peak_17  3.9230477                  \n",
       "HEK293T_P3G8_SPI1_d075_peak_6   0.5604354                  \n",
       "HEK293T_P1B6_SP4_d005_peak_3    0.9807619                  \n",
       "HEK293T_P3G7_SPI1_d100_peak_10  0.2802177                  \n",
       "HEK293T_P3F10_SPI1_d025_peak_18 0.9807619                  \n",
       "                                X225_HEK293T_P2E9_TCF3_d050\n",
       "HEK293T_P3A12_GFP_d100_peak_1   0.7844106                  \n",
       "HEK293T_P3A12_GFP_d100_peak_17  3.5298478                  \n",
       "HEK293T_P3G8_SPI1_d075_peak_6   0.9151457                  \n",
       "HEK293T_P1B6_SP4_d005_peak_3    0.9151457                  \n",
       "HEK293T_P3G7_SPI1_d100_peak_10  0.1307351                  \n",
       "HEK293T_P3F10_SPI1_d025_peak_18 1.5688212                  \n",
       "                                X226_HEK293T_P2F9_TCF3_d050\n",
       "HEK293T_P3A12_GFP_d100_peak_1   0.7192666                  \n",
       "HEK293T_P3A12_GFP_d100_peak_17  4.1957220                  \n",
       "HEK293T_P3G8_SPI1_d075_peak_6   0.7192666                  \n",
       "HEK293T_P1B6_SP4_d005_peak_3    1.1987777                  \n",
       "HEK293T_P3G7_SPI1_d100_peak_10  0.7192666                  \n",
       "HEK293T_P3F10_SPI1_d025_peak_18 1.5584110                  \n",
       "                                X233_HEK293T_P2E10_TCF3_d025\n",
       "HEK293T_P3A12_GFP_d100_peak_1   0.3483234                   \n",
       "HEK293T_P3A12_GFP_d100_peak_17  4.5282046                   \n",
       "HEK293T_P3G8_SPI1_d075_peak_6   0.5224851                   \n",
       "HEK293T_P1B6_SP4_d005_peak_3    1.0449703                   \n",
       "HEK293T_P3G7_SPI1_d100_peak_10  0.5224851                   \n",
       "HEK293T_P3F10_SPI1_d025_peak_18 1.3932937                   \n",
       "                                X234_HEK293T_P2F10_TCF3_d025\n",
       "HEK293T_P3A12_GFP_d100_peak_1          NA                   \n",
       "HEK293T_P3A12_GFP_d100_peak_17  3.2295187                   \n",
       "HEK293T_P3G8_SPI1_d075_peak_6   1.0765062                   \n",
       "HEK293T_P1B6_SP4_d005_peak_3    1.0765062                   \n",
       "HEK293T_P3G7_SPI1_d100_peak_10  0.5382531                   \n",
       "HEK293T_P3F10_SPI1_d025_peak_18 1.0765062                   \n",
       "                                X241_HEK293T_P2E11_TCF3_d005\n",
       "HEK293T_P3A12_GFP_d100_peak_1   0.3605537                   \n",
       "HEK293T_P3A12_GFP_d100_peak_17  4.8674749                   \n",
       "HEK293T_P3G8_SPI1_d075_peak_6   0.7211074                   \n",
       "HEK293T_P1B6_SP4_d005_peak_3    1.2619379                   \n",
       "HEK293T_P3G7_SPI1_d100_peak_10  0.7211074                   \n",
       "HEK293T_P3F10_SPI1_d025_peak_18 1.4422148                   \n",
       "                                X242_HEK293T_P2F11_TCF3_d005\n",
       "HEK293T_P3A12_GFP_d100_peak_1   0.6836667                   \n",
       "HEK293T_P3A12_GFP_d100_peak_17  5.9820838                   \n",
       "HEK293T_P3G8_SPI1_d075_peak_6   0.5127500                   \n",
       "HEK293T_P1B6_SP4_d005_peak_3    1.1964168                   \n",
       "HEK293T_P3G7_SPI1_d100_peak_10  0.5127500                   \n",
       "HEK293T_P3F10_SPI1_d025_peak_18 2.0510002                   "
      ]
     },
     "metadata": {},
     "output_type": "display_data"
    },
    {
     "data": {
      "text/html": [
       "<style>\n",
       ".list-inline {list-style: none; margin:0; padding: 0}\n",
       ".list-inline>li {display: inline-block}\n",
       ".list-inline>li:not(:last-child)::after {content: \"\\00b7\"; padding: 0 .5ex}\n",
       "</style>\n",
       "<ol class=list-inline><li>608176</li><li>18</li></ol>\n"
      ],
      "text/latex": [
       "\\begin{enumerate*}\n",
       "\\item 608176\n",
       "\\item 18\n",
       "\\end{enumerate*}\n"
      ],
      "text/markdown": [
       "1. 608176\n",
       "2. 18\n",
       "\n",
       "\n"
      ],
      "text/plain": [
       "[1] 608176     18"
      ]
     },
     "metadata": {},
     "output_type": "display_data"
    }
   ],
   "source": [
    "cpm <- cpm_df[,c(grep(\"GFP\", colnames(cpm_df)), grep(TF, colnames(cpm_df)))]\n",
    "cpm %>% head\n",
    "dim(cpm)"
   ]
  },
  {
   "cell_type": "code",
   "execution_count": 131,
   "id": "ea55c2e4-01f8-4cd5-8ce6-bf3286688318",
   "metadata": {
    "vscode": {
     "languageId": "r"
    }
   },
   "outputs": [
    {
     "data": {
      "text/plain": [
       "class: RangedSummarizedExperiment \n",
       "dim: 81964 1 \n",
       "metadata(0):\n",
       "assays(3): motifScores motifMatches motifCounts\n",
       "rownames(81964): HEK293T_P3G8_SPI1_d075_peak_6\n",
       "  HEK293T_P3A12_GFP_d100_peak_56 ...\n",
       "  HEK293T_P3A12_GFP_d100_peak_1824788\n",
       "  HEK293T_P3C3_KLF4_d075_peak_1358715\n",
       "rowData names(0):\n",
       "colnames(1): MA0522.3_TCF3\n",
       "colData names(1): name"
      ]
     },
     "metadata": {},
     "output_type": "display_data"
    }
   ],
   "source": [
    "# identify peaks containing target motif\n",
    "target_motif_counts <- rowSums(motifCounts(motif.scores[,motif_code]))\n",
    "subset <- motif.scores[(target_motif_counts > 0), motif_code]\n",
    "subset"
   ]
  },
  {
   "cell_type": "code",
   "execution_count": 132,
   "id": "b7a216c2-fd76-4b6b-8936-6d4f0b8df747",
   "metadata": {
    "vscode": {
     "languageId": "r"
    }
   },
   "outputs": [
    {
     "data": {
      "text/html": [
       "<style>\n",
       ".list-inline {list-style: none; margin:0; padding: 0}\n",
       ".list-inline>li {display: inline-block}\n",
       ".list-inline>li:not(:last-child)::after {content: \"\\00b7\"; padding: 0 .5ex}\n",
       "</style>\n",
       "<ol class=list-inline><li>63736</li><li>21</li></ol>\n"
      ],
      "text/latex": [
       "\\begin{enumerate*}\n",
       "\\item 63736\n",
       "\\item 21\n",
       "\\end{enumerate*}\n"
      ],
      "text/markdown": [
       "1. 63736\n",
       "2. 21\n",
       "\n",
       "\n"
      ],
      "text/plain": [
       "[1] 63736    21"
      ]
     },
     "metadata": {},
     "output_type": "display_data"
    }
   ],
   "source": [
    "# read differential peaks between group 2 and group 1, filter for increased accessibility peaks only\n",
    "de <- read.csv(Sys.glob(sprintf(\"%s/deseq_*%s_vs_*%s_%s_full.tsv\", deseq_dir, group2, group1, region)), sep = \"\\t\")\n",
    "de <- de %>% dplyr::filter((log2FoldChange > log2fc_cutoff) & (padj < padj_cutoff))\n",
    "rownames(de) <- de$name\n",
    "dim(de)"
   ]
  },
  {
   "cell_type": "code",
   "execution_count": null,
   "id": "8abacbc4-1fe3-4df8-af47-6953b5521f55",
   "metadata": {
    "vscode": {
     "languageId": "r"
    }
   },
   "outputs": [
    {
     "data": {
      "text/html": [
       "<table class=\"dataframe\">\n",
       "<caption>A data.frame: 6 × 9</caption>\n",
       "<thead>\n",
       "\t<tr><th></th><th scope=col>m</th><th scope=col>b</th><th scope=col>res_linear</th><th scope=col>h</th><th scope=col>ka</th><th scope=col>res_hill</th><th scope=col>h_pval</th><th scope=col>ka_pval</th><th scope=col>delta_res_lin_hill</th></tr>\n",
       "\t<tr><th></th><th scope=col>&lt;dbl&gt;</th><th scope=col>&lt;dbl&gt;</th><th scope=col>&lt;dbl&gt;</th><th scope=col>&lt;dbl&gt;</th><th scope=col>&lt;dbl&gt;</th><th scope=col>&lt;dbl&gt;</th><th scope=col>&lt;dbl&gt;</th><th scope=col>&lt;dbl&gt;</th><th scope=col>&lt;dbl&gt;</th></tr>\n",
       "</thead>\n",
       "<tbody>\n",
       "\t<tr><th scope=row>HEK293T_P1A10_BACH2_d025_peak_105924</th><td>1.3032951</td><td>0.000239392</td><td>2.8828061</td><td>3.690300</td><td>3.340878e-01</td><td>2.8485184</td><td>0.4338552</td><td>0.046135606</td><td>0.03428768</td></tr>\n",
       "\t<tr><th scope=row>HEK293T_P1A10_BACH2_d025_peak_109919</th><td>0.9598820</td><td>0.219870733</td><td>3.2060313</td><td>0.108200</td><td>1.510598e-09</td><td>1.8591335</td><td>0.9369398</td><td>0.996689311</td><td>1.34689780</td></tr>\n",
       "\t<tr><th scope=row>HEK293T_P1A10_BACH2_d025_peak_114520</th><td>0.9103449</td><td>0.212240151</td><td>2.8185247</td><td>9.998946</td><td>4.891603e-02</td><td>1.3890052</td><td>0.9999982</td><td>0.999917848</td><td>1.42951950</td></tr>\n",
       "\t<tr><th scope=row>HEK293T_P1A10_BACH2_d025_peak_116188</th><td>1.1407902</td><td>0.054062955</td><td>2.7347082</td><td>3.903583</td><td>2.995175e-01</td><td>2.5576599</td><td>0.4959816</td><td>0.029896831</td><td>0.17704828</td></tr>\n",
       "\t<tr><th scope=row>HEK293T_P1A10_BACH2_d025_peak_128406</th><td>1.0832966</td><td>0.152408607</td><td>3.0683201</td><td>9.996757</td><td>5.936139e-02</td><td>1.6040179</td><td>0.9999886</td><td>0.999933521</td><td>1.46430220</td></tr>\n",
       "\t<tr><th scope=row>HEK293T_P1A10_BACH2_d025_peak_129513</th><td>1.1419086</td><td>0.021685551</td><td>0.6631482</td><td>2.573146</td><td>3.118085e-01</td><td>0.5980205</td><td>0.1037434</td><td>0.001235907</td><td>0.06512767</td></tr>\n",
       "</tbody>\n",
       "</table>\n"
      ],
      "text/latex": [
       "A data.frame: 6 × 9\n",
       "\\begin{tabular}{r|lllllllll}\n",
       "  & m & b & res\\_linear & h & ka & res\\_hill & h\\_pval & ka\\_pval & delta\\_res\\_lin\\_hill\\\\\n",
       "  & <dbl> & <dbl> & <dbl> & <dbl> & <dbl> & <dbl> & <dbl> & <dbl> & <dbl>\\\\\n",
       "\\hline\n",
       "\tHEK293T\\_P1A10\\_BACH2\\_d025\\_peak\\_105924 & 1.3032951 & 0.000239392 & 2.8828061 & 3.690300 & 3.340878e-01 & 2.8485184 & 0.4338552 & 0.046135606 & 0.03428768\\\\\n",
       "\tHEK293T\\_P1A10\\_BACH2\\_d025\\_peak\\_109919 & 0.9598820 & 0.219870733 & 3.2060313 & 0.108200 & 1.510598e-09 & 1.8591335 & 0.9369398 & 0.996689311 & 1.34689780\\\\\n",
       "\tHEK293T\\_P1A10\\_BACH2\\_d025\\_peak\\_114520 & 0.9103449 & 0.212240151 & 2.8185247 & 9.998946 & 4.891603e-02 & 1.3890052 & 0.9999982 & 0.999917848 & 1.42951950\\\\\n",
       "\tHEK293T\\_P1A10\\_BACH2\\_d025\\_peak\\_116188 & 1.1407902 & 0.054062955 & 2.7347082 & 3.903583 & 2.995175e-01 & 2.5576599 & 0.4959816 & 0.029896831 & 0.17704828\\\\\n",
       "\tHEK293T\\_P1A10\\_BACH2\\_d025\\_peak\\_128406 & 1.0832966 & 0.152408607 & 3.0683201 & 9.996757 & 5.936139e-02 & 1.6040179 & 0.9999886 & 0.999933521 & 1.46430220\\\\\n",
       "\tHEK293T\\_P1A10\\_BACH2\\_d025\\_peak\\_129513 & 1.1419086 & 0.021685551 & 0.6631482 & 2.573146 & 3.118085e-01 & 0.5980205 & 0.1037434 & 0.001235907 & 0.06512767\\\\\n",
       "\\end{tabular}\n"
      ],
      "text/markdown": [
       "\n",
       "A data.frame: 6 × 9\n",
       "\n",
       "| <!--/--> | m &lt;dbl&gt; | b &lt;dbl&gt; | res_linear &lt;dbl&gt; | h &lt;dbl&gt; | ka &lt;dbl&gt; | res_hill &lt;dbl&gt; | h_pval &lt;dbl&gt; | ka_pval &lt;dbl&gt; | delta_res_lin_hill &lt;dbl&gt; |\n",
       "|---|---|---|---|---|---|---|---|---|---|\n",
       "| HEK293T_P1A10_BACH2_d025_peak_105924 | 1.3032951 | 0.000239392 | 2.8828061 | 3.690300 | 3.340878e-01 | 2.8485184 | 0.4338552 | 0.046135606 | 0.03428768 |\n",
       "| HEK293T_P1A10_BACH2_d025_peak_109919 | 0.9598820 | 0.219870733 | 3.2060313 | 0.108200 | 1.510598e-09 | 1.8591335 | 0.9369398 | 0.996689311 | 1.34689780 |\n",
       "| HEK293T_P1A10_BACH2_d025_peak_114520 | 0.9103449 | 0.212240151 | 2.8185247 | 9.998946 | 4.891603e-02 | 1.3890052 | 0.9999982 | 0.999917848 | 1.42951950 |\n",
       "| HEK293T_P1A10_BACH2_d025_peak_116188 | 1.1407902 | 0.054062955 | 2.7347082 | 3.903583 | 2.995175e-01 | 2.5576599 | 0.4959816 | 0.029896831 | 0.17704828 |\n",
       "| HEK293T_P1A10_BACH2_d025_peak_128406 | 1.0832966 | 0.152408607 | 3.0683201 | 9.996757 | 5.936139e-02 | 1.6040179 | 0.9999886 | 0.999933521 | 1.46430220 |\n",
       "| HEK293T_P1A10_BACH2_d025_peak_129513 | 1.1419086 | 0.021685551 | 0.6631482 | 2.573146 | 3.118085e-01 | 0.5980205 | 0.1037434 | 0.001235907 | 0.06512767 |\n",
       "\n"
      ],
      "text/plain": [
       "                                     m         b           res_linear h       \n",
       "HEK293T_P1A10_BACH2_d025_peak_105924 1.3032951 0.000239392 2.8828061  3.690300\n",
       "HEK293T_P1A10_BACH2_d025_peak_109919 0.9598820 0.219870733 3.2060313  0.108200\n",
       "HEK293T_P1A10_BACH2_d025_peak_114520 0.9103449 0.212240151 2.8185247  9.998946\n",
       "HEK293T_P1A10_BACH2_d025_peak_116188 1.1407902 0.054062955 2.7347082  3.903583\n",
       "HEK293T_P1A10_BACH2_d025_peak_128406 1.0832966 0.152408607 3.0683201  9.996757\n",
       "HEK293T_P1A10_BACH2_d025_peak_129513 1.1419086 0.021685551 0.6631482  2.573146\n",
       "                                     ka           res_hill  h_pval   \n",
       "HEK293T_P1A10_BACH2_d025_peak_105924 3.340878e-01 2.8485184 0.4338552\n",
       "HEK293T_P1A10_BACH2_d025_peak_109919 1.510598e-09 1.8591335 0.9369398\n",
       "HEK293T_P1A10_BACH2_d025_peak_114520 4.891603e-02 1.3890052 0.9999982\n",
       "HEK293T_P1A10_BACH2_d025_peak_116188 2.995175e-01 2.5576599 0.4959816\n",
       "HEK293T_P1A10_BACH2_d025_peak_128406 5.936139e-02 1.6040179 0.9999886\n",
       "HEK293T_P1A10_BACH2_d025_peak_129513 3.118085e-01 0.5980205 0.1037434\n",
       "                                     ka_pval     delta_res_lin_hill\n",
       "HEK293T_P1A10_BACH2_d025_peak_105924 0.046135606 0.03428768        \n",
       "HEK293T_P1A10_BACH2_d025_peak_109919 0.996689311 1.34689780        \n",
       "HEK293T_P1A10_BACH2_d025_peak_114520 0.999917848 1.42951950        \n",
       "HEK293T_P1A10_BACH2_d025_peak_116188 0.029896831 0.17704828        \n",
       "HEK293T_P1A10_BACH2_d025_peak_128406 0.999933521 1.46430220        \n",
       "HEK293T_P1A10_BACH2_d025_peak_129513 0.001235907 0.06512767        "
      ]
     },
     "metadata": {},
     "output_type": "display_data"
    },
    {
     "data": {
      "text/html": [
       "<style>\n",
       ".list-inline {list-style: none; margin:0; padding: 0}\n",
       ".list-inline>li {display: inline-block}\n",
       ".list-inline>li:not(:last-child)::after {content: \"\\00b7\"; padding: 0 .5ex}\n",
       "</style>\n",
       "<ol class=list-inline><li>63252</li><li>9</li></ol>\n"
      ],
      "text/latex": [
       "\\begin{enumerate*}\n",
       "\\item 63252\n",
       "\\item 9\n",
       "\\end{enumerate*}\n"
      ],
      "text/markdown": [
       "1. 63252\n",
       "2. 9\n",
       "\n",
       "\n"
      ],
      "text/plain": [
       "[1] 63252     9"
      ]
     },
     "metadata": {},
     "output_type": "display_data"
    }
   ],
   "source": [
    "# read sensitivity data\n",
    "t <- read.csv(sprintf(\"%s/sensitivity_%s_log2fc0.58_fit.csv\",outdir, TF), row.names = 1)\n",
    "t$delta_res_lin_hill <- t$res_linear - t$res_hill\n",
    "t %>% head\n",
    "dim(t)"
   ]
  },
  {
   "cell_type": "code",
   "execution_count": 134,
   "id": "c851d3d6-2946-45ec-8732-c6bcd7a10449",
   "metadata": {
    "vscode": {
     "languageId": "r"
    }
   },
   "outputs": [
    {
     "data": {
      "text/plain": [
       "\n",
       "   No   Yes \n",
       "52252 29712 "
      ]
     },
     "metadata": {},
     "output_type": "display_data"
    }
   ],
   "source": [
    "# add meta: is sensitive \n",
    "rowData(subset)[\"sensitive\"] <- \"No\"\n",
    "rowData(subset)[(rownames(subset) %in% de$name),\"sensitive\"] <- \"Yes\"\n",
    "table(rowData(subset)$sensitive)"
   ]
  },
  {
   "cell_type": "code",
   "execution_count": 135,
   "id": "8b775f60-25bc-47e1-b15d-7ba2f5f06ce6",
   "metadata": {
    "vscode": {
     "languageId": "r"
    }
   },
   "outputs": [
    {
     "data": {
      "text/plain": [
       "\n",
       "   No   Yes \n",
       " 1662 28050 "
      ]
     },
     "metadata": {},
     "output_type": "display_data"
    }
   ],
   "source": [
    "# add meta: is saturating/nonsaturating sensitive\n",
    "rowData(subset)[rownames(subset)[rowData(subset)$sensitive==\"Yes\"], \"saturating\"] <- \"No\"\n",
    "#tmp <- t[(t$delta_res_lin_hill > 0) & (t$ka_pval < 0.1) & (t$h_pval < 0.1),]\n",
    "tmp <- t[(t$delta_res_lin_hill > 0),]\n",
    "rowData(subset)[(rownames(subset) %in% rownames(tmp)),\"saturating\"] <- \"Yes\"\n",
    "table(rowData(subset)$saturating)"
   ]
  },
  {
   "cell_type": "code",
   "execution_count": 136,
   "id": "26a75be4-a7ac-40c3-88d0-a4108664b592",
   "metadata": {
    "vscode": {
     "languageId": "r"
    }
   },
   "outputs": [
    {
     "data": {
      "text/plain": [
       "\n",
       "closed   open \n",
       " 36135  16117 "
      ]
     },
     "metadata": {},
     "output_type": "display_data"
    }
   ],
   "source": [
    "# add meta: EC50 and hill values for saturating sensitive peaks\n",
    "tmp <- rownames(subset)[rowData(subset)$sensitive==\"Yes\"]\n",
    "rowData(subset)[tmp, \"EC50\"] <- t[tmp,\"ka\"]\n",
    "rowData(subset)[tmp, \"h\"] <- t[tmp,\"h\"]\n",
    "\n",
    "# add meta: is open/closed nonsensitive\n",
    "rowData(subset)[rownames(subset)[rowData(subset)$sensitive==\"No\"], \"state\"] <- \"closed\" # initialize all nonsensitive peaks to closed\n",
    "tmp <- cpm[rowMeans(cpm)>1,]\n",
    "\n",
    "rowData(subset)[(rownames(subset) %in% rownames(tmp)) & (rowData(subset)$sensitive==\"No\"),\"state\"] <- \"open\"\n",
    "table(rowData(subset)$state)"
   ]
  },
  {
   "cell_type": "code",
   "execution_count": 137,
   "id": "0ddac47c-3363-4b81-9b36-543b75989b98",
   "metadata": {
    "vscode": {
     "languageId": "r"
    }
   },
   "outputs": [],
   "source": [
    "# add meta: group\n",
    "rowData(subset)$group <- NA\n",
    "rowData(subset)[which(rowData(subset)$saturating==\"Yes\"), \"group\"] <- \"saturating sensitive\"\n",
    "rowData(subset)[which(rowData(subset)$saturating==\"No\"), \"group\"] <- \"nonsaturating sensitive\"\n",
    "rowData(subset)[which(rowData(subset)$state==\"open\"), \"group\"] <- \"open nonsensitive\"\n",
    "rowData(subset)[which(rowData(subset)$state==\"closed\"), \"group\"] <- \"closed nonsensitive\"\n",
    "rowData(subset)$group <- factor(rowData(subset)$group, levels=c(\"saturating sensitive\",\"nonsaturating sensitive\",\n",
    "                                                               \"open nonsensitive\",\"closed nonsensitive\" ))"
   ]
  },
  {
   "cell_type": "code",
   "execution_count": 138,
   "id": "3afbcafc",
   "metadata": {
    "vscode": {
     "languageId": "r"
    }
   },
   "outputs": [
    {
     "data": {
      "text/plain": [
       ".\n",
       "   saturating sensitive nonsaturating sensitive       open nonsensitive \n",
       "                  28050                    1662                   16117 \n",
       "    closed nonsensitive \n",
       "                  36135 "
      ]
     },
     "metadata": {},
     "output_type": "display_data"
    }
   ],
   "source": [
    "rowData(subset)$group %>% table"
   ]
  },
  {
   "cell_type": "code",
   "execution_count": 139,
   "id": "f00b0ba9-189c-4343-a3e9-b0b336dea06f",
   "metadata": {
    "tags": [],
    "vscode": {
     "languageId": "r"
    }
   },
   "outputs": [],
   "source": [
    "write.table(rowData(subset), paste0(outdir, \"/\", TF,\"_motif_containing_peak_meta.tsv\"), sep=\"\\t\", quote=F)"
   ]
  },
  {
   "cell_type": "markdown",
   "id": "1854272a",
   "metadata": {},
   "source": [
    "## plot peak counts in each sensitivity group"
   ]
  },
  {
   "cell_type": "code",
   "execution_count": 6,
   "id": "5fa39cbb",
   "metadata": {
    "vscode": {
     "languageId": "r"
    }
   },
   "outputs": [
    {
     "name": "stdout",
     "output_type": "stream",
     "text": [
      "[1] \"ALX4\"\n",
      "[1] \"ELF1\"\n",
      "[1] \"IRF4\"\n",
      "[1] \"KLF1\"\n",
      "[1] \"KLF4\"\n",
      "[1] \"LEF1\"\n",
      "[1] \"OCT4\"\n",
      "[1] \"SOX2\"\n",
      "[1] \"SP4\"\n",
      "[1] \"SPI1\"\n",
      "[1] \"TCF3\"\n"
     ]
    }
   ],
   "source": [
    "all_meta <- list()\n",
    "for (TF in names(motif_code_ls)){\n",
    "    print(TF)\n",
    "    df <- read.table(paste0(outdir, \"/\", TF,\"_motif_containing_peak_meta.tsv\"), sep=\"\\t\")\n",
    "    all_meta[[TF]] <- table(df$group) %>% as.data.frame %>% dplyr::rename(group=\"Var1\", npeak=\"Freq\") %>% dplyr::mutate(TF=TF)\n",
    "}\n"
   ]
  },
  {
   "cell_type": "code",
   "execution_count": 7,
   "id": "9b273ea7",
   "metadata": {
    "vscode": {
     "languageId": "r"
    }
   },
   "outputs": [],
   "source": [
    "all_meta <- do.call(rbind, all_meta)\n",
    "rownames(all_meta) <- NULL"
   ]
  },
  {
   "cell_type": "code",
   "execution_count": 15,
   "id": "954058b1",
   "metadata": {
    "vscode": {
     "languageId": "r"
    }
   },
   "outputs": [
    {
     "data": {
      "text/html": [
       "<table class=\"dataframe\">\n",
       "<caption>A tibble: 11 × 2</caption>\n",
       "<thead>\n",
       "\t<tr><th scope=col>TF</th><th scope=col>allpeak</th></tr>\n",
       "\t<tr><th scope=col>&lt;chr&gt;</th><th scope=col>&lt;int&gt;</th></tr>\n",
       "</thead>\n",
       "<tbody>\n",
       "\t<tr><td>ALX4</td><td> 69952</td></tr>\n",
       "\t<tr><td>ELF1</td><td> 77559</td></tr>\n",
       "\t<tr><td>IRF4</td><td> 26962</td></tr>\n",
       "\t<tr><td>KLF1</td><td>167232</td></tr>\n",
       "\t<tr><td>KLF4</td><td>167232</td></tr>\n",
       "\t<tr><td>LEF1</td><td> 54563</td></tr>\n",
       "\t<tr><td>OCT4</td><td> 53467</td></tr>\n",
       "\t<tr><td>SOX2</td><td> 37251</td></tr>\n",
       "\t<tr><td>SP4 </td><td> 63230</td></tr>\n",
       "\t<tr><td>SPI1</td><td>139176</td></tr>\n",
       "\t<tr><td>TCF3</td><td> 81964</td></tr>\n",
       "</tbody>\n",
       "</table>\n"
      ],
      "text/latex": [
       "A tibble: 11 × 2\n",
       "\\begin{tabular}{ll}\n",
       " TF & allpeak\\\\\n",
       " <chr> & <int>\\\\\n",
       "\\hline\n",
       "\t ALX4 &  69952\\\\\n",
       "\t ELF1 &  77559\\\\\n",
       "\t IRF4 &  26962\\\\\n",
       "\t KLF1 & 167232\\\\\n",
       "\t KLF4 & 167232\\\\\n",
       "\t LEF1 &  54563\\\\\n",
       "\t OCT4 &  53467\\\\\n",
       "\t SOX2 &  37251\\\\\n",
       "\t SP4  &  63230\\\\\n",
       "\t SPI1 & 139176\\\\\n",
       "\t TCF3 &  81964\\\\\n",
       "\\end{tabular}\n"
      ],
      "text/markdown": [
       "\n",
       "A tibble: 11 × 2\n",
       "\n",
       "| TF &lt;chr&gt; | allpeak &lt;int&gt; |\n",
       "|---|---|\n",
       "| ALX4 |  69952 |\n",
       "| ELF1 |  77559 |\n",
       "| IRF4 |  26962 |\n",
       "| KLF1 | 167232 |\n",
       "| KLF4 | 167232 |\n",
       "| LEF1 |  54563 |\n",
       "| OCT4 |  53467 |\n",
       "| SOX2 |  37251 |\n",
       "| SP4  |  63230 |\n",
       "| SPI1 | 139176 |\n",
       "| TCF3 |  81964 |\n",
       "\n"
      ],
      "text/plain": [
       "   TF   allpeak\n",
       "1  ALX4  69952 \n",
       "2  ELF1  77559 \n",
       "3  IRF4  26962 \n",
       "4  KLF1 167232 \n",
       "5  KLF4 167232 \n",
       "6  LEF1  54563 \n",
       "7  OCT4  53467 \n",
       "8  SOX2  37251 \n",
       "9  SP4   63230 \n",
       "10 SPI1 139176 \n",
       "11 TCF3  81964 "
      ]
     },
     "metadata": {},
     "output_type": "display_data"
    },
    {
     "data": {
      "text/html": [
       "<table class=\"dataframe\">\n",
       "<caption>A data.frame: 11 × 3</caption>\n",
       "<thead>\n",
       "\t<tr><th scope=col>group</th><th scope=col>npeak</th><th scope=col>TF</th></tr>\n",
       "\t<tr><th scope=col>&lt;fct&gt;</th><th scope=col>&lt;int&gt;</th><th scope=col>&lt;chr&gt;</th></tr>\n",
       "</thead>\n",
       "<tbody>\n",
       "\t<tr><td>nonsaturating sensitive</td><td> 641</td><td>ALX4</td></tr>\n",
       "\t<tr><td>nonsaturating sensitive</td><td> 321</td><td>ELF1</td></tr>\n",
       "\t<tr><td>nonsaturating sensitive</td><td>  71</td><td>IRF4</td></tr>\n",
       "\t<tr><td>nonsaturating sensitive</td><td>5215</td><td>KLF1</td></tr>\n",
       "\t<tr><td>nonsaturating sensitive</td><td>5005</td><td>KLF4</td></tr>\n",
       "\t<tr><td>nonsaturating sensitive</td><td>1136</td><td>LEF1</td></tr>\n",
       "\t<tr><td>nonsaturating sensitive</td><td>1509</td><td>OCT4</td></tr>\n",
       "\t<tr><td>nonsaturating sensitive</td><td>  34</td><td>SOX2</td></tr>\n",
       "\t<tr><td>nonsaturating sensitive</td><td> 140</td><td>SP4 </td></tr>\n",
       "\t<tr><td>nonsaturating sensitive</td><td>3719</td><td>SPI1</td></tr>\n",
       "\t<tr><td>nonsaturating sensitive</td><td>1662</td><td>TCF3</td></tr>\n",
       "</tbody>\n",
       "</table>\n"
      ],
      "text/latex": [
       "A data.frame: 11 × 3\n",
       "\\begin{tabular}{lll}\n",
       " group & npeak & TF\\\\\n",
       " <fct> & <int> & <chr>\\\\\n",
       "\\hline\n",
       "\t nonsaturating sensitive &  641 & ALX4\\\\\n",
       "\t nonsaturating sensitive &  321 & ELF1\\\\\n",
       "\t nonsaturating sensitive &   71 & IRF4\\\\\n",
       "\t nonsaturating sensitive & 5215 & KLF1\\\\\n",
       "\t nonsaturating sensitive & 5005 & KLF4\\\\\n",
       "\t nonsaturating sensitive & 1136 & LEF1\\\\\n",
       "\t nonsaturating sensitive & 1509 & OCT4\\\\\n",
       "\t nonsaturating sensitive &   34 & SOX2\\\\\n",
       "\t nonsaturating sensitive &  140 & SP4 \\\\\n",
       "\t nonsaturating sensitive & 3719 & SPI1\\\\\n",
       "\t nonsaturating sensitive & 1662 & TCF3\\\\\n",
       "\\end{tabular}\n"
      ],
      "text/markdown": [
       "\n",
       "A data.frame: 11 × 3\n",
       "\n",
       "| group &lt;fct&gt; | npeak &lt;int&gt; | TF &lt;chr&gt; |\n",
       "|---|---|---|\n",
       "| nonsaturating sensitive |  641 | ALX4 |\n",
       "| nonsaturating sensitive |  321 | ELF1 |\n",
       "| nonsaturating sensitive |   71 | IRF4 |\n",
       "| nonsaturating sensitive | 5215 | KLF1 |\n",
       "| nonsaturating sensitive | 5005 | KLF4 |\n",
       "| nonsaturating sensitive | 1136 | LEF1 |\n",
       "| nonsaturating sensitive | 1509 | OCT4 |\n",
       "| nonsaturating sensitive |   34 | SOX2 |\n",
       "| nonsaturating sensitive |  140 | SP4  |\n",
       "| nonsaturating sensitive | 3719 | SPI1 |\n",
       "| nonsaturating sensitive | 1662 | TCF3 |\n",
       "\n"
      ],
      "text/plain": [
       "   group                   npeak TF  \n",
       "1  nonsaturating sensitive  641  ALX4\n",
       "2  nonsaturating sensitive  321  ELF1\n",
       "3  nonsaturating sensitive   71  IRF4\n",
       "4  nonsaturating sensitive 5215  KLF1\n",
       "5  nonsaturating sensitive 5005  KLF4\n",
       "6  nonsaturating sensitive 1136  LEF1\n",
       "7  nonsaturating sensitive 1509  OCT4\n",
       "8  nonsaturating sensitive   34  SOX2\n",
       "9  nonsaturating sensitive  140  SP4 \n",
       "10 nonsaturating sensitive 3719  SPI1\n",
       "11 nonsaturating sensitive 1662  TCF3"
      ]
     },
     "metadata": {},
     "output_type": "display_data"
    },
    {
     "data": {
      "text/html": [
       "<table class=\"dataframe\">\n",
       "<caption>A data.frame: 11 × 5</caption>\n",
       "<thead>\n",
       "\t<tr><th scope=col>TF</th><th scope=col>allpeak</th><th scope=col>group</th><th scope=col>npeak</th><th scope=col>ratio</th></tr>\n",
       "\t<tr><th scope=col>&lt;chr&gt;</th><th scope=col>&lt;int&gt;</th><th scope=col>&lt;fct&gt;</th><th scope=col>&lt;int&gt;</th><th scope=col>&lt;dbl&gt;</th></tr>\n",
       "</thead>\n",
       "<tbody>\n",
       "\t<tr><td>KLF1</td><td>167232</td><td>nonsaturating sensitive</td><td>5215</td><td>0.0311842231</td></tr>\n",
       "\t<tr><td>KLF4</td><td>167232</td><td>nonsaturating sensitive</td><td>5005</td><td>0.0299284826</td></tr>\n",
       "\t<tr><td>OCT4</td><td> 53467</td><td>nonsaturating sensitive</td><td>1509</td><td>0.0282230161</td></tr>\n",
       "\t<tr><td>SPI1</td><td>139176</td><td>nonsaturating sensitive</td><td>3719</td><td>0.0267215612</td></tr>\n",
       "\t<tr><td>LEF1</td><td> 54563</td><td>nonsaturating sensitive</td><td>1136</td><td>0.0208199696</td></tr>\n",
       "\t<tr><td>TCF3</td><td> 81964</td><td>nonsaturating sensitive</td><td>1662</td><td>0.0202771949</td></tr>\n",
       "\t<tr><td>ALX4</td><td> 69952</td><td>nonsaturating sensitive</td><td> 641</td><td>0.0091634263</td></tr>\n",
       "\t<tr><td>ELF1</td><td> 77559</td><td>nonsaturating sensitive</td><td> 321</td><td>0.0041387847</td></tr>\n",
       "\t<tr><td>IRF4</td><td> 26962</td><td>nonsaturating sensitive</td><td>  71</td><td>0.0026333358</td></tr>\n",
       "\t<tr><td>SP4 </td><td> 63230</td><td>nonsaturating sensitive</td><td> 140</td><td>0.0022141389</td></tr>\n",
       "\t<tr><td>SOX2</td><td> 37251</td><td>nonsaturating sensitive</td><td>  34</td><td>0.0009127272</td></tr>\n",
       "</tbody>\n",
       "</table>\n"
      ],
      "text/latex": [
       "A data.frame: 11 × 5\n",
       "\\begin{tabular}{lllll}\n",
       " TF & allpeak & group & npeak & ratio\\\\\n",
       " <chr> & <int> & <fct> & <int> & <dbl>\\\\\n",
       "\\hline\n",
       "\t KLF1 & 167232 & nonsaturating sensitive & 5215 & 0.0311842231\\\\\n",
       "\t KLF4 & 167232 & nonsaturating sensitive & 5005 & 0.0299284826\\\\\n",
       "\t OCT4 &  53467 & nonsaturating sensitive & 1509 & 0.0282230161\\\\\n",
       "\t SPI1 & 139176 & nonsaturating sensitive & 3719 & 0.0267215612\\\\\n",
       "\t LEF1 &  54563 & nonsaturating sensitive & 1136 & 0.0208199696\\\\\n",
       "\t TCF3 &  81964 & nonsaturating sensitive & 1662 & 0.0202771949\\\\\n",
       "\t ALX4 &  69952 & nonsaturating sensitive &  641 & 0.0091634263\\\\\n",
       "\t ELF1 &  77559 & nonsaturating sensitive &  321 & 0.0041387847\\\\\n",
       "\t IRF4 &  26962 & nonsaturating sensitive &   71 & 0.0026333358\\\\\n",
       "\t SP4  &  63230 & nonsaturating sensitive &  140 & 0.0022141389\\\\\n",
       "\t SOX2 &  37251 & nonsaturating sensitive &   34 & 0.0009127272\\\\\n",
       "\\end{tabular}\n"
      ],
      "text/markdown": [
       "\n",
       "A data.frame: 11 × 5\n",
       "\n",
       "| TF &lt;chr&gt; | allpeak &lt;int&gt; | group &lt;fct&gt; | npeak &lt;int&gt; | ratio &lt;dbl&gt; |\n",
       "|---|---|---|---|---|\n",
       "| KLF1 | 167232 | nonsaturating sensitive | 5215 | 0.0311842231 |\n",
       "| KLF4 | 167232 | nonsaturating sensitive | 5005 | 0.0299284826 |\n",
       "| OCT4 |  53467 | nonsaturating sensitive | 1509 | 0.0282230161 |\n",
       "| SPI1 | 139176 | nonsaturating sensitive | 3719 | 0.0267215612 |\n",
       "| LEF1 |  54563 | nonsaturating sensitive | 1136 | 0.0208199696 |\n",
       "| TCF3 |  81964 | nonsaturating sensitive | 1662 | 0.0202771949 |\n",
       "| ALX4 |  69952 | nonsaturating sensitive |  641 | 0.0091634263 |\n",
       "| ELF1 |  77559 | nonsaturating sensitive |  321 | 0.0041387847 |\n",
       "| IRF4 |  26962 | nonsaturating sensitive |   71 | 0.0026333358 |\n",
       "| SP4  |  63230 | nonsaturating sensitive |  140 | 0.0022141389 |\n",
       "| SOX2 |  37251 | nonsaturating sensitive |   34 | 0.0009127272 |\n",
       "\n"
      ],
      "text/plain": [
       "   TF   allpeak group                   npeak ratio       \n",
       "1  KLF1 167232  nonsaturating sensitive 5215  0.0311842231\n",
       "2  KLF4 167232  nonsaturating sensitive 5005  0.0299284826\n",
       "3  OCT4  53467  nonsaturating sensitive 1509  0.0282230161\n",
       "4  SPI1 139176  nonsaturating sensitive 3719  0.0267215612\n",
       "5  LEF1  54563  nonsaturating sensitive 1136  0.0208199696\n",
       "6  TCF3  81964  nonsaturating sensitive 1662  0.0202771949\n",
       "7  ALX4  69952  nonsaturating sensitive  641  0.0091634263\n",
       "8  ELF1  77559  nonsaturating sensitive  321  0.0041387847\n",
       "9  IRF4  26962  nonsaturating sensitive   71  0.0026333358\n",
       "10 SP4   63230  nonsaturating sensitive  140  0.0022141389\n",
       "11 SOX2  37251  nonsaturating sensitive   34  0.0009127272"
      ]
     },
     "metadata": {},
     "output_type": "display_data"
    }
   ],
   "source": [
    "#ratio of nonsaturating peaks\n",
    "df1 <- all_meta %>% dplyr::group_by(TF) %>% dplyr::summarise(allpeak=sum(npeak))\n",
    "df2 <- all_meta %>% dplyr::filter(group==\"nonsaturating sensitive\")\n",
    "df1\n",
    "df2\n",
    "df3 <- merge(df1, df2, by=\"TF\")\n",
    "df3 %>% dplyr::mutate(ratio=npeak/allpeak) %>% dplyr::arrange(desc(ratio))\n"
   ]
  },
  {
   "cell_type": "code",
   "execution_count": 29,
   "id": "d80501fd",
   "metadata": {
    "vscode": {
     "languageId": "r"
    }
   },
   "outputs": [
    {
     "data": {
      "image/png": "[encoded data removed]",
      "text/plain": [
       "plot without title"
      ]
     },
     "metadata": {
      "image/png": {
       "height": 420,
       "width": 420
      }
     },
     "output_type": "display_data"
    }
   ],
   "source": [
    "group_colors <- c(\"saturating sensitive\"=\"#2076B4\",\n",
    "                  \"nonsaturating sensitive\"=\"#D8A7CA\",\n",
    "                  \"open nonsensitive\"=\"#009E73\",\n",
    "                  \"closed nonsensitive\"=\"#E5A024\")\n",
    "all_meta$group <- factor(all_meta$group, levels=c(\"saturating sensitive\", \"nonsaturating sensitive\", \"open nonsensitive\", \"closed nonsensitive\"))\n",
    "ggplot(all_meta, aes(x=TF, y=npeak, fill=group)) + geom_col(width=0.7) + scale_fill_manual(values=group_colors) + theme_bw()\n",
    "ggsave(paste0(plotdir, \"/all_tf_npeak_pergroup.pdf\"), width=14, height=6)"
   ]
  },
  {
   "cell_type": "code",
   "execution_count": null,
   "id": "7ab54712",
   "metadata": {
    "vscode": {
     "languageId": "r"
    }
   },
   "outputs": [],
   "source": []
  }
 ],
 "metadata": {
  "kernelspec": {
   "display_name": "R",
   "language": "R",
   "name": "ir"
  },
  "language_info": {
   "codemirror_mode": "r",
   "file_extension": ".r",
   "mimetype": "text/x-r-source",
   "name": "R",
   "pygments_lexer": "r",
   "version": "4.1.2"
  }
 },
 "nbformat": 4,
 "nbformat_minor": 5
}
